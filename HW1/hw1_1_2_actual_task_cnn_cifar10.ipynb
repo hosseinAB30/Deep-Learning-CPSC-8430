{
 "cells": [
  {
   "cell_type": "code",
   "execution_count": 1,
   "metadata": {},
   "outputs": [
    {
     "data": {
      "text/plain": [
       "<torch._C.Generator at 0x152d1e078830>"
      ]
     },
     "execution_count": 1,
     "metadata": {},
     "output_type": "execute_result"
    }
   ],
   "source": [
    "import torch\n",
    "import torch.nn as nn\n",
    "import torchvision\n",
    "import torchvision.transforms as transform\n",
    "from torch.utils.data import DataLoader\n",
    "from PIL import Image\n",
    "from tqdm import tqdm\n",
    "import matplotlib.pyplot as plt\n",
    "import os\n",
    "os.environ['KMP_DUPLICATE_LIB_OK'] ='True'\n",
    "torch.manual_seed(1)"
   ]
  },
  {
   "cell_type": "code",
   "execution_count": 2,
   "metadata": {},
   "outputs": [],
   "source": [
    "device = 'cuda' if torch.cuda.is_available() else 'cpu'"
   ]
  },
  {
   "cell_type": "code",
   "execution_count": 3,
   "metadata": {},
   "outputs": [
    {
     "name": "stdout",
     "output_type": "stream",
     "text": [
      "Files already downloaded and verified\n",
      "Files already downloaded and verified\n"
     ]
    }
   ],
   "source": [
    "Transform = transform.Compose([transform.ToTensor()])\n",
    "\n",
    "trainset = torchvision.datasets.CIFAR10(root='./data/',train=True,download=True,transform=Transform)\n",
    "testset = torchvision.datasets.CIFAR10(root='./data/',train=False,download=True,transform=Transform)\n",
    "\n",
    "trainloader = DataLoader(trainset,batch_size=64,shuffle=True)\n",
    "testloader = DataLoader(testset,batch_size=64,shuffle=True)"
   ]
  },
  {
   "cell_type": "code",
   "execution_count": 4,
   "metadata": {},
   "outputs": [],
   "source": [
    "class my_cnn(nn.Module):\n",
    "    def __init__(self):\n",
    "        super().__init__()\n",
    "        self.conv1 = nn.Conv2d(3,32,kernel_size=(3,3),stride=1,padding=1)\n",
    "        self.act1 = nn.ReLU()\n",
    "        self.drop1 = nn.Dropout(0.3)\n",
    "\n",
    "        self.conv2 = nn.Conv2d(32,32,kernel_size=(3,3),stride=1,padding=1)\n",
    "        self.act2 = nn.ReLU()\n",
    "        self.pool2 = nn.MaxPool2d(kernel_size=(2,2))\n",
    "\n",
    "        self.flat = nn.Flatten()\n",
    "\n",
    "        self.fc3 = nn.Linear(32*16*16,512)\n",
    "        self.act3 = nn.ReLU()\n",
    "        self.drop3 = nn.Dropout(0.5)\n",
    "\n",
    "        self.fc4 = nn.Linear(512,10)\n",
    "\n",
    "        self.cross_ent = nn.CrossEntropyLoss()\n",
    "    \n",
    "    def forward(self, x):\n",
    "        x = self.act1(self.conv1(x))\n",
    "        x = self.drop1(x)            # input  3x32x32, output 32x32x32\n",
    "\n",
    "        x = self.act2(self.conv2(x)) # input 32x32x32, output 32x32x32\n",
    "        x = self.pool2(x)            # input 32x32x32, output 32x16x16\n",
    "\n",
    "        x = self.flat(x)             # input 32x16x16, output 8192\n",
    "\n",
    "        x = self.act3(self.fc3(x))   \n",
    "        # x = self.drop3(x)            # input 8192,     output 512\n",
    "\n",
    "        x = self.fc4(x)              # input 512,      output 10\n",
    "        return x\n",
    "\n",
    "class my_cnn1(nn.Module):\n",
    "    def __init__(self):\n",
    "        super().__init__()\n",
    "        self.conv1 = nn.Conv2d(3,96,kernel_size=(3,3),stride=1,padding=1)\n",
    "        self.act1 = nn.ReLU()\n",
    "        self.pool1 = nn.MaxPool2d(kernel_size=(2,2))\n",
    "        self.drop1 = nn.Dropout(0.5)\n",
    "\n",
    "        self.conv2 = nn.Conv2d(96,80,kernel_size=(3,3),stride=1,padding=1)\n",
    "        self.act2 = nn.ReLU()\n",
    "        self.pool2 = nn.MaxPool2d(kernel_size=(2,2))\n",
    "        self.drop2 = nn.Dropout(0.5)\n",
    "        \n",
    "        self.conv3 = nn.Conv2d(80,96,kernel_size=(3,3),stride=1,padding=1)\n",
    "        self.act3 = nn.ReLU()\n",
    "        \n",
    "        self.conv4 = nn.Conv2d(96,64,kernel_size=(3,3),stride=1,padding=1)\n",
    "        self.act4 = nn.ReLU()\n",
    "\n",
    "        self.flat = nn.Flatten()\n",
    "\n",
    "        self.fc5 = nn.Linear(64*8*8,512)\n",
    "        self.act5 = nn.ReLU()\n",
    "\n",
    "        self.fc6 = nn.Linear(512,10)\n",
    "\n",
    "        self.cross_ent = nn.CrossEntropyLoss()\n",
    "    \n",
    "    def forward(self, x):\n",
    "        x = self.act1(self.conv1(x)) # input  3x32x32, output 96x32x32\n",
    "        x = self.pool1(x)            # input  3x32x32, output 96x16x16\n",
    "        # x = self.drop1(x)            # input 96x16x16, output 96x16x16\n",
    "\n",
    "        x = self.act2(self.conv2(x)) # input 96x16x16, output 80x16x16\n",
    "        x = self.pool2(x)            # input 80x16x16, output 80x8x8\n",
    "        # x = self.drop2(x)            # input 80x8x8,   output 80x8x8\n",
    "        \n",
    "        x = self.act3(self.conv3(x)) # input 80x8x8,   output 96x8x8\n",
    "        \n",
    "        x = self.act4(self.conv4(x)) # input 96x8x8,   output 64x8x8\n",
    "\n",
    "        x = self.flat(x)             # input 64x8x8,   output 4096\n",
    "\n",
    "        x = self.act5(self.fc5(x))   # input 4096,     output 512\n",
    "\n",
    "        x = self.fc6(x)              # input 512,      output 10\n",
    "        return x\n",
    "    \n",
    "def Train_(model,Epoch):\n",
    "    optimizer = torch.optim.Adam(model.parameters(), lr=1e-4)\n",
    "    loss_train = []\n",
    "    epochs = []\n",
    "    accuracy_train = []\n",
    "    loss_per_batch = 0\n",
    "    for epoch in range(1,Epoch+1):\n",
    "        print('Epoch {} Training...'.format(epoch))\n",
    "        for input, label in tqdm(trainloader):\n",
    "            input, label = input.to(device), label.to(device)\n",
    "            y_hat = model(input).to(device)\n",
    "            loss = model.cross_ent(y_hat,label)\n",
    "            optimizer.zero_grad()\n",
    "            loss.backward()\n",
    "            optimizer.step()\n",
    "            loss_per_batch += loss.data\n",
    "        \n",
    "        print('Calculating Accuracy...')\n",
    "        acc = 0\n",
    "        count = 0\n",
    "        for input, label in testloader:\n",
    "            input, label = input.to(device), label.to(device)\n",
    "            y_hat = model(input).to(device)\n",
    "            acc += (torch.argmax(y_hat,dim=1) == label).float().sum()\n",
    "            count += len(label)\n",
    "        acc /= count\n",
    "        print('Epoch {}: model accuracy {:.2f}%'.format(epoch, acc*100))\n",
    "        print('--------------------------------------------------------')\n",
    "        \n",
    "        epochs.append(epoch)\n",
    "        accuracy_train.append(acc.cpu().data.numpy().item())\n",
    "        loss_per_batch /= count\n",
    "        loss_train.append(loss_per_batch.cpu().data.numpy().item())\n",
    "    torch.save(model.state_dict(),'cnn_saved_model.pth')\n",
    "    return epochs, loss_train, accuracy_train"
   ]
  },
  {
   "cell_type": "code",
   "execution_count": 5,
   "metadata": {
    "scrolled": true
   },
   "outputs": [
    {
     "name": "stdout",
     "output_type": "stream",
     "text": [
      "Epoch 1 Training...\n"
     ]
    },
    {
     "name": "stderr",
     "output_type": "stream",
     "text": [
      "100%|██████████| 782/782 [00:10<00:00, 76.45it/s]\n"
     ]
    },
    {
     "name": "stdout",
     "output_type": "stream",
     "text": [
      "Calculating Accuracy...\n",
      "Epoch 1: model accuracy 42.21%\n",
      "--------------------------------------------------------\n",
      "Epoch 2 Training...\n"
     ]
    },
    {
     "name": "stderr",
     "output_type": "stream",
     "text": [
      "100%|██████████| 782/782 [00:09<00:00, 84.75it/s]\n"
     ]
    },
    {
     "name": "stdout",
     "output_type": "stream",
     "text": [
      "Calculating Accuracy...\n",
      "Epoch 2: model accuracy 47.99%\n",
      "--------------------------------------------------------\n",
      "Epoch 3 Training...\n"
     ]
    },
    {
     "name": "stderr",
     "output_type": "stream",
     "text": [
      "100%|██████████| 782/782 [00:09<00:00, 84.38it/s]\n"
     ]
    },
    {
     "name": "stdout",
     "output_type": "stream",
     "text": [
      "Calculating Accuracy...\n",
      "Epoch 3: model accuracy 50.52%\n",
      "--------------------------------------------------------\n",
      "Epoch 4 Training...\n"
     ]
    },
    {
     "name": "stderr",
     "output_type": "stream",
     "text": [
      "100%|██████████| 782/782 [00:09<00:00, 84.35it/s]\n"
     ]
    },
    {
     "name": "stdout",
     "output_type": "stream",
     "text": [
      "Calculating Accuracy...\n",
      "Epoch 4: model accuracy 53.29%\n",
      "--------------------------------------------------------\n",
      "Epoch 5 Training...\n"
     ]
    },
    {
     "name": "stderr",
     "output_type": "stream",
     "text": [
      "100%|██████████| 782/782 [00:09<00:00, 85.17it/s]\n"
     ]
    },
    {
     "name": "stdout",
     "output_type": "stream",
     "text": [
      "Calculating Accuracy...\n",
      "Epoch 5: model accuracy 55.02%\n",
      "--------------------------------------------------------\n",
      "Epoch 6 Training...\n"
     ]
    },
    {
     "name": "stderr",
     "output_type": "stream",
     "text": [
      "100%|██████████| 782/782 [00:09<00:00, 83.89it/s]\n"
     ]
    },
    {
     "name": "stdout",
     "output_type": "stream",
     "text": [
      "Calculating Accuracy...\n",
      "Epoch 6: model accuracy 56.62%\n",
      "--------------------------------------------------------\n",
      "Epoch 7 Training...\n"
     ]
    },
    {
     "name": "stderr",
     "output_type": "stream",
     "text": [
      "100%|██████████| 782/782 [00:10<00:00, 76.98it/s]\n"
     ]
    },
    {
     "name": "stdout",
     "output_type": "stream",
     "text": [
      "Calculating Accuracy...\n",
      "Epoch 7: model accuracy 57.35%\n",
      "--------------------------------------------------------\n",
      "Epoch 8 Training...\n"
     ]
    },
    {
     "name": "stderr",
     "output_type": "stream",
     "text": [
      "100%|██████████| 782/782 [00:10<00:00, 76.86it/s]\n"
     ]
    },
    {
     "name": "stdout",
     "output_type": "stream",
     "text": [
      "Calculating Accuracy...\n",
      "Epoch 8: model accuracy 58.41%\n",
      "--------------------------------------------------------\n",
      "Epoch 9 Training...\n"
     ]
    },
    {
     "name": "stderr",
     "output_type": "stream",
     "text": [
      "100%|██████████| 782/782 [00:10<00:00, 77.05it/s]\n"
     ]
    },
    {
     "name": "stdout",
     "output_type": "stream",
     "text": [
      "Calculating Accuracy...\n",
      "Epoch 9: model accuracy 59.65%\n",
      "--------------------------------------------------------\n",
      "Epoch 10 Training...\n"
     ]
    },
    {
     "name": "stderr",
     "output_type": "stream",
     "text": [
      "100%|██████████| 782/782 [00:10<00:00, 76.81it/s]\n"
     ]
    },
    {
     "name": "stdout",
     "output_type": "stream",
     "text": [
      "Calculating Accuracy...\n",
      "Epoch 10: model accuracy 60.53%\n",
      "--------------------------------------------------------\n",
      "Epoch 11 Training...\n"
     ]
    },
    {
     "name": "stderr",
     "output_type": "stream",
     "text": [
      "100%|██████████| 782/782 [00:10<00:00, 76.66it/s]\n"
     ]
    },
    {
     "name": "stdout",
     "output_type": "stream",
     "text": [
      "Calculating Accuracy...\n",
      "Epoch 11: model accuracy 61.01%\n",
      "--------------------------------------------------------\n",
      "Epoch 12 Training...\n"
     ]
    },
    {
     "name": "stderr",
     "output_type": "stream",
     "text": [
      "100%|██████████| 782/782 [00:10<00:00, 77.84it/s]\n"
     ]
    },
    {
     "name": "stdout",
     "output_type": "stream",
     "text": [
      "Calculating Accuracy...\n",
      "Epoch 12: model accuracy 62.20%\n",
      "--------------------------------------------------------\n",
      "Epoch 13 Training...\n"
     ]
    },
    {
     "name": "stderr",
     "output_type": "stream",
     "text": [
      "100%|██████████| 782/782 [00:08<00:00, 87.55it/s]\n"
     ]
    },
    {
     "name": "stdout",
     "output_type": "stream",
     "text": [
      "Calculating Accuracy...\n",
      "Epoch 13: model accuracy 63.07%\n",
      "--------------------------------------------------------\n",
      "Epoch 14 Training...\n"
     ]
    },
    {
     "name": "stderr",
     "output_type": "stream",
     "text": [
      "100%|██████████| 782/782 [00:09<00:00, 85.86it/s]\n"
     ]
    },
    {
     "name": "stdout",
     "output_type": "stream",
     "text": [
      "Calculating Accuracy...\n",
      "Epoch 14: model accuracy 63.03%\n",
      "--------------------------------------------------------\n",
      "Epoch 15 Training...\n"
     ]
    },
    {
     "name": "stderr",
     "output_type": "stream",
     "text": [
      "100%|██████████| 782/782 [00:09<00:00, 85.61it/s]\n"
     ]
    },
    {
     "name": "stdout",
     "output_type": "stream",
     "text": [
      "Calculating Accuracy...\n",
      "Epoch 15: model accuracy 63.30%\n",
      "--------------------------------------------------------\n",
      "Epoch 16 Training...\n"
     ]
    },
    {
     "name": "stderr",
     "output_type": "stream",
     "text": [
      "100%|██████████| 782/782 [00:09<00:00, 85.01it/s]\n"
     ]
    },
    {
     "name": "stdout",
     "output_type": "stream",
     "text": [
      "Calculating Accuracy...\n",
      "Epoch 16: model accuracy 64.12%\n",
      "--------------------------------------------------------\n",
      "Epoch 17 Training...\n"
     ]
    },
    {
     "name": "stderr",
     "output_type": "stream",
     "text": [
      "100%|██████████| 782/782 [00:09<00:00, 83.98it/s]\n"
     ]
    },
    {
     "name": "stdout",
     "output_type": "stream",
     "text": [
      "Calculating Accuracy...\n",
      "Epoch 17: model accuracy 64.75%\n",
      "--------------------------------------------------------\n",
      "Epoch 18 Training...\n"
     ]
    },
    {
     "name": "stderr",
     "output_type": "stream",
     "text": [
      "100%|██████████| 782/782 [00:09<00:00, 85.35it/s]\n"
     ]
    },
    {
     "name": "stdout",
     "output_type": "stream",
     "text": [
      "Calculating Accuracy...\n",
      "Epoch 18: model accuracy 64.87%\n",
      "--------------------------------------------------------\n",
      "Epoch 19 Training...\n"
     ]
    },
    {
     "name": "stderr",
     "output_type": "stream",
     "text": [
      "100%|██████████| 782/782 [00:09<00:00, 83.49it/s]\n"
     ]
    },
    {
     "name": "stdout",
     "output_type": "stream",
     "text": [
      "Calculating Accuracy...\n",
      "Epoch 19: model accuracy 65.43%\n",
      "--------------------------------------------------------\n",
      "Epoch 20 Training...\n"
     ]
    },
    {
     "name": "stderr",
     "output_type": "stream",
     "text": [
      "100%|██████████| 782/782 [00:09<00:00, 83.92it/s]\n"
     ]
    },
    {
     "name": "stdout",
     "output_type": "stream",
     "text": [
      "Calculating Accuracy...\n",
      "Epoch 20: model accuracy 65.56%\n",
      "--------------------------------------------------------\n",
      "Epoch 21 Training...\n"
     ]
    },
    {
     "name": "stderr",
     "output_type": "stream",
     "text": [
      "100%|██████████| 782/782 [00:09<00:00, 84.88it/s]\n"
     ]
    },
    {
     "name": "stdout",
     "output_type": "stream",
     "text": [
      "Calculating Accuracy...\n",
      "Epoch 21: model accuracy 66.07%\n",
      "--------------------------------------------------------\n",
      "Epoch 22 Training...\n"
     ]
    },
    {
     "name": "stderr",
     "output_type": "stream",
     "text": [
      "100%|██████████| 782/782 [00:09<00:00, 84.19it/s]\n"
     ]
    },
    {
     "name": "stdout",
     "output_type": "stream",
     "text": [
      "Calculating Accuracy...\n",
      "Epoch 22: model accuracy 66.34%\n",
      "--------------------------------------------------------\n",
      "Epoch 23 Training...\n"
     ]
    },
    {
     "name": "stderr",
     "output_type": "stream",
     "text": [
      "100%|██████████| 782/782 [00:09<00:00, 84.09it/s]\n"
     ]
    },
    {
     "name": "stdout",
     "output_type": "stream",
     "text": [
      "Calculating Accuracy...\n",
      "Epoch 23: model accuracy 66.39%\n",
      "--------------------------------------------------------\n",
      "Epoch 24 Training...\n"
     ]
    },
    {
     "name": "stderr",
     "output_type": "stream",
     "text": [
      "100%|██████████| 782/782 [00:09<00:00, 84.41it/s]\n"
     ]
    },
    {
     "name": "stdout",
     "output_type": "stream",
     "text": [
      "Calculating Accuracy...\n",
      "Epoch 24: model accuracy 66.33%\n",
      "--------------------------------------------------------\n",
      "Epoch 25 Training...\n"
     ]
    },
    {
     "name": "stderr",
     "output_type": "stream",
     "text": [
      "100%|██████████| 782/782 [00:09<00:00, 82.33it/s]\n"
     ]
    },
    {
     "name": "stdout",
     "output_type": "stream",
     "text": [
      "Calculating Accuracy...\n",
      "Epoch 25: model accuracy 66.34%\n",
      "--------------------------------------------------------\n",
      "Epoch 26 Training...\n"
     ]
    },
    {
     "name": "stderr",
     "output_type": "stream",
     "text": [
      "100%|██████████| 782/782 [00:10<00:00, 76.88it/s]\n"
     ]
    },
    {
     "name": "stdout",
     "output_type": "stream",
     "text": [
      "Calculating Accuracy...\n",
      "Epoch 26: model accuracy 66.32%\n",
      "--------------------------------------------------------\n",
      "Epoch 27 Training...\n"
     ]
    },
    {
     "name": "stderr",
     "output_type": "stream",
     "text": [
      "100%|██████████| 782/782 [00:10<00:00, 76.44it/s]\n"
     ]
    },
    {
     "name": "stdout",
     "output_type": "stream",
     "text": [
      "Calculating Accuracy...\n",
      "Epoch 27: model accuracy 65.97%\n",
      "--------------------------------------------------------\n",
      "Epoch 28 Training...\n"
     ]
    },
    {
     "name": "stderr",
     "output_type": "stream",
     "text": [
      "100%|██████████| 782/782 [00:10<00:00, 76.63it/s]\n"
     ]
    },
    {
     "name": "stdout",
     "output_type": "stream",
     "text": [
      "Calculating Accuracy...\n",
      "Epoch 28: model accuracy 66.62%\n",
      "--------------------------------------------------------\n",
      "Epoch 29 Training...\n"
     ]
    },
    {
     "name": "stderr",
     "output_type": "stream",
     "text": [
      "100%|██████████| 782/782 [00:10<00:00, 76.49it/s]\n"
     ]
    },
    {
     "name": "stdout",
     "output_type": "stream",
     "text": [
      "Calculating Accuracy...\n",
      "Epoch 29: model accuracy 66.46%\n",
      "--------------------------------------------------------\n",
      "Epoch 30 Training...\n"
     ]
    },
    {
     "name": "stderr",
     "output_type": "stream",
     "text": [
      "100%|██████████| 782/782 [00:10<00:00, 76.62it/s]\n"
     ]
    },
    {
     "name": "stdout",
     "output_type": "stream",
     "text": [
      "Calculating Accuracy...\n",
      "Epoch 30: model accuracy 66.95%\n",
      "--------------------------------------------------------\n",
      "Epoch 31 Training...\n"
     ]
    },
    {
     "name": "stderr",
     "output_type": "stream",
     "text": [
      "100%|██████████| 782/782 [00:09<00:00, 80.77it/s]\n"
     ]
    },
    {
     "name": "stdout",
     "output_type": "stream",
     "text": [
      "Calculating Accuracy...\n",
      "Epoch 31: model accuracy 66.91%\n",
      "--------------------------------------------------------\n",
      "Epoch 32 Training...\n"
     ]
    },
    {
     "name": "stderr",
     "output_type": "stream",
     "text": [
      "100%|██████████| 782/782 [00:08<00:00, 88.05it/s]\n"
     ]
    },
    {
     "name": "stdout",
     "output_type": "stream",
     "text": [
      "Calculating Accuracy...\n",
      "Epoch 32: model accuracy 66.66%\n",
      "--------------------------------------------------------\n",
      "Epoch 33 Training...\n"
     ]
    },
    {
     "name": "stderr",
     "output_type": "stream",
     "text": [
      "100%|██████████| 782/782 [00:09<00:00, 85.11it/s]\n"
     ]
    },
    {
     "name": "stdout",
     "output_type": "stream",
     "text": [
      "Calculating Accuracy...\n",
      "Epoch 33: model accuracy 67.09%\n",
      "--------------------------------------------------------\n",
      "Epoch 34 Training...\n"
     ]
    },
    {
     "name": "stderr",
     "output_type": "stream",
     "text": [
      "100%|██████████| 782/782 [00:09<00:00, 84.29it/s]\n"
     ]
    },
    {
     "name": "stdout",
     "output_type": "stream",
     "text": [
      "Calculating Accuracy...\n",
      "Epoch 34: model accuracy 66.26%\n",
      "--------------------------------------------------------\n",
      "Epoch 35 Training...\n"
     ]
    },
    {
     "name": "stderr",
     "output_type": "stream",
     "text": [
      "100%|██████████| 782/782 [00:09<00:00, 84.73it/s]\n"
     ]
    },
    {
     "name": "stdout",
     "output_type": "stream",
     "text": [
      "Calculating Accuracy...\n",
      "Epoch 35: model accuracy 66.35%\n",
      "--------------------------------------------------------\n",
      "Epoch 36 Training...\n"
     ]
    },
    {
     "name": "stderr",
     "output_type": "stream",
     "text": [
      "100%|██████████| 782/782 [00:09<00:00, 85.01it/s]\n"
     ]
    },
    {
     "name": "stdout",
     "output_type": "stream",
     "text": [
      "Calculating Accuracy...\n",
      "Epoch 36: model accuracy 66.96%\n",
      "--------------------------------------------------------\n",
      "Epoch 37 Training...\n"
     ]
    },
    {
     "name": "stderr",
     "output_type": "stream",
     "text": [
      "100%|██████████| 782/782 [00:09<00:00, 86.24it/s]\n"
     ]
    },
    {
     "name": "stdout",
     "output_type": "stream",
     "text": [
      "Calculating Accuracy...\n",
      "Epoch 37: model accuracy 66.64%\n",
      "--------------------------------------------------------\n",
      "Epoch 38 Training...\n"
     ]
    },
    {
     "name": "stderr",
     "output_type": "stream",
     "text": [
      "100%|██████████| 782/782 [00:09<00:00, 84.24it/s]\n"
     ]
    },
    {
     "name": "stdout",
     "output_type": "stream",
     "text": [
      "Calculating Accuracy...\n",
      "Epoch 38: model accuracy 66.31%\n",
      "--------------------------------------------------------\n",
      "Epoch 39 Training...\n"
     ]
    },
    {
     "name": "stderr",
     "output_type": "stream",
     "text": [
      "100%|██████████| 782/782 [00:09<00:00, 84.50it/s]\n"
     ]
    },
    {
     "name": "stdout",
     "output_type": "stream",
     "text": [
      "Calculating Accuracy...\n",
      "Epoch 39: model accuracy 66.79%\n",
      "--------------------------------------------------------\n",
      "Epoch 40 Training...\n"
     ]
    },
    {
     "name": "stderr",
     "output_type": "stream",
     "text": [
      "100%|██████████| 782/782 [00:09<00:00, 84.79it/s]\n"
     ]
    },
    {
     "name": "stdout",
     "output_type": "stream",
     "text": [
      "Calculating Accuracy...\n",
      "Epoch 40: model accuracy 67.09%\n",
      "--------------------------------------------------------\n",
      "Epoch 41 Training...\n"
     ]
    },
    {
     "name": "stderr",
     "output_type": "stream",
     "text": [
      "100%|██████████| 782/782 [00:09<00:00, 84.76it/s]\n"
     ]
    },
    {
     "name": "stdout",
     "output_type": "stream",
     "text": [
      "Calculating Accuracy...\n",
      "Epoch 41: model accuracy 66.56%\n",
      "--------------------------------------------------------\n",
      "Epoch 42 Training...\n"
     ]
    },
    {
     "name": "stderr",
     "output_type": "stream",
     "text": [
      "100%|██████████| 782/782 [00:09<00:00, 84.36it/s]\n"
     ]
    },
    {
     "name": "stdout",
     "output_type": "stream",
     "text": [
      "Calculating Accuracy...\n",
      "Epoch 42: model accuracy 66.46%\n",
      "--------------------------------------------------------\n",
      "Epoch 43 Training...\n"
     ]
    },
    {
     "name": "stderr",
     "output_type": "stream",
     "text": [
      "100%|██████████| 782/782 [00:09<00:00, 84.74it/s]\n"
     ]
    },
    {
     "name": "stdout",
     "output_type": "stream",
     "text": [
      "Calculating Accuracy...\n",
      "Epoch 43: model accuracy 66.10%\n",
      "--------------------------------------------------------\n",
      "Epoch 44 Training...\n"
     ]
    },
    {
     "name": "stderr",
     "output_type": "stream",
     "text": [
      "100%|██████████| 782/782 [00:09<00:00, 80.40it/s]\n"
     ]
    },
    {
     "name": "stdout",
     "output_type": "stream",
     "text": [
      "Calculating Accuracy...\n",
      "Epoch 44: model accuracy 66.26%\n",
      "--------------------------------------------------------\n",
      "Epoch 45 Training...\n"
     ]
    },
    {
     "name": "stderr",
     "output_type": "stream",
     "text": [
      "100%|██████████| 782/782 [00:10<00:00, 77.48it/s]\n"
     ]
    },
    {
     "name": "stdout",
     "output_type": "stream",
     "text": [
      "Calculating Accuracy...\n",
      "Epoch 45: model accuracy 65.79%\n",
      "--------------------------------------------------------\n",
      "Epoch 46 Training...\n"
     ]
    },
    {
     "name": "stderr",
     "output_type": "stream",
     "text": [
      "100%|██████████| 782/782 [00:10<00:00, 77.47it/s]\n"
     ]
    },
    {
     "name": "stdout",
     "output_type": "stream",
     "text": [
      "Calculating Accuracy...\n",
      "Epoch 46: model accuracy 65.85%\n",
      "--------------------------------------------------------\n",
      "Epoch 47 Training...\n"
     ]
    },
    {
     "name": "stderr",
     "output_type": "stream",
     "text": [
      "100%|██████████| 782/782 [00:10<00:00, 77.54it/s]\n"
     ]
    },
    {
     "name": "stdout",
     "output_type": "stream",
     "text": [
      "Calculating Accuracy...\n",
      "Epoch 47: model accuracy 66.44%\n",
      "--------------------------------------------------------\n",
      "Epoch 48 Training...\n"
     ]
    },
    {
     "name": "stderr",
     "output_type": "stream",
     "text": [
      "100%|██████████| 782/782 [00:10<00:00, 76.63it/s]\n"
     ]
    },
    {
     "name": "stdout",
     "output_type": "stream",
     "text": [
      "Calculating Accuracy...\n",
      "Epoch 48: model accuracy 66.50%\n",
      "--------------------------------------------------------\n",
      "Epoch 49 Training...\n"
     ]
    },
    {
     "name": "stderr",
     "output_type": "stream",
     "text": [
      "100%|██████████| 782/782 [00:10<00:00, 76.73it/s]\n"
     ]
    },
    {
     "name": "stdout",
     "output_type": "stream",
     "text": [
      "Calculating Accuracy...\n",
      "Epoch 49: model accuracy 66.01%\n",
      "--------------------------------------------------------\n",
      "Epoch 50 Training...\n"
     ]
    },
    {
     "name": "stderr",
     "output_type": "stream",
     "text": [
      "100%|██████████| 782/782 [00:09<00:00, 85.12it/s]\n"
     ]
    },
    {
     "name": "stdout",
     "output_type": "stream",
     "text": [
      "Calculating Accuracy...\n",
      "Epoch 50: model accuracy 66.18%\n",
      "--------------------------------------------------------\n",
      "Epoch 51 Training...\n"
     ]
    },
    {
     "name": "stderr",
     "output_type": "stream",
     "text": [
      "100%|██████████| 782/782 [00:09<00:00, 86.29it/s]\n"
     ]
    },
    {
     "name": "stdout",
     "output_type": "stream",
     "text": [
      "Calculating Accuracy...\n",
      "Epoch 51: model accuracy 66.29%\n",
      "--------------------------------------------------------\n",
      "Epoch 52 Training...\n"
     ]
    },
    {
     "name": "stderr",
     "output_type": "stream",
     "text": [
      "100%|██████████| 782/782 [00:09<00:00, 85.03it/s]\n"
     ]
    },
    {
     "name": "stdout",
     "output_type": "stream",
     "text": [
      "Calculating Accuracy...\n",
      "Epoch 52: model accuracy 65.39%\n",
      "--------------------------------------------------------\n",
      "Epoch 53 Training...\n"
     ]
    },
    {
     "name": "stderr",
     "output_type": "stream",
     "text": [
      "100%|██████████| 782/782 [00:09<00:00, 84.65it/s]\n"
     ]
    },
    {
     "name": "stdout",
     "output_type": "stream",
     "text": [
      "Calculating Accuracy...\n",
      "Epoch 53: model accuracy 65.93%\n",
      "--------------------------------------------------------\n",
      "Epoch 54 Training...\n"
     ]
    },
    {
     "name": "stderr",
     "output_type": "stream",
     "text": [
      "100%|██████████| 782/782 [00:09<00:00, 84.97it/s]\n"
     ]
    },
    {
     "name": "stdout",
     "output_type": "stream",
     "text": [
      "Calculating Accuracy...\n",
      "Epoch 54: model accuracy 66.29%\n",
      "--------------------------------------------------------\n",
      "Epoch 55 Training...\n"
     ]
    },
    {
     "name": "stderr",
     "output_type": "stream",
     "text": [
      "100%|██████████| 782/782 [00:09<00:00, 85.26it/s]\n"
     ]
    },
    {
     "name": "stdout",
     "output_type": "stream",
     "text": [
      "Calculating Accuracy...\n",
      "Epoch 55: model accuracy 66.19%\n",
      "--------------------------------------------------------\n",
      "Epoch 56 Training...\n"
     ]
    },
    {
     "name": "stderr",
     "output_type": "stream",
     "text": [
      "100%|██████████| 782/782 [00:09<00:00, 85.90it/s]\n"
     ]
    },
    {
     "name": "stdout",
     "output_type": "stream",
     "text": [
      "Calculating Accuracy...\n",
      "Epoch 56: model accuracy 65.83%\n",
      "--------------------------------------------------------\n",
      "Epoch 57 Training...\n"
     ]
    },
    {
     "name": "stderr",
     "output_type": "stream",
     "text": [
      "100%|██████████| 782/782 [00:09<00:00, 85.59it/s]\n"
     ]
    },
    {
     "name": "stdout",
     "output_type": "stream",
     "text": [
      "Calculating Accuracy...\n",
      "Epoch 57: model accuracy 65.90%\n",
      "--------------------------------------------------------\n",
      "Epoch 58 Training...\n"
     ]
    },
    {
     "name": "stderr",
     "output_type": "stream",
     "text": [
      "100%|██████████| 782/782 [00:09<00:00, 85.81it/s]\n"
     ]
    },
    {
     "name": "stdout",
     "output_type": "stream",
     "text": [
      "Calculating Accuracy...\n",
      "Epoch 58: model accuracy 66.30%\n",
      "--------------------------------------------------------\n",
      "Epoch 59 Training...\n"
     ]
    },
    {
     "name": "stderr",
     "output_type": "stream",
     "text": [
      "100%|██████████| 782/782 [00:09<00:00, 85.08it/s]\n"
     ]
    },
    {
     "name": "stdout",
     "output_type": "stream",
     "text": [
      "Calculating Accuracy...\n",
      "Epoch 59: model accuracy 65.36%\n",
      "--------------------------------------------------------\n",
      "Epoch 60 Training...\n"
     ]
    },
    {
     "name": "stderr",
     "output_type": "stream",
     "text": [
      "100%|██████████| 782/782 [00:09<00:00, 84.96it/s]\n"
     ]
    },
    {
     "name": "stdout",
     "output_type": "stream",
     "text": [
      "Calculating Accuracy...\n",
      "Epoch 60: model accuracy 65.73%\n",
      "--------------------------------------------------------\n",
      "Epoch 61 Training...\n"
     ]
    },
    {
     "name": "stderr",
     "output_type": "stream",
     "text": [
      "100%|██████████| 782/782 [00:09<00:00, 85.15it/s]\n"
     ]
    },
    {
     "name": "stdout",
     "output_type": "stream",
     "text": [
      "Calculating Accuracy...\n",
      "Epoch 61: model accuracy 66.07%\n",
      "--------------------------------------------------------\n",
      "Epoch 62 Training...\n"
     ]
    },
    {
     "name": "stderr",
     "output_type": "stream",
     "text": [
      "100%|██████████| 782/782 [00:09<00:00, 85.58it/s]\n"
     ]
    },
    {
     "name": "stdout",
     "output_type": "stream",
     "text": [
      "Calculating Accuracy...\n",
      "Epoch 62: model accuracy 66.10%\n",
      "--------------------------------------------------------\n",
      "Epoch 63 Training...\n"
     ]
    },
    {
     "name": "stderr",
     "output_type": "stream",
     "text": [
      "100%|██████████| 782/782 [00:10<00:00, 77.67it/s]\n"
     ]
    },
    {
     "name": "stdout",
     "output_type": "stream",
     "text": [
      "Calculating Accuracy...\n",
      "Epoch 63: model accuracy 65.49%\n",
      "--------------------------------------------------------\n",
      "Epoch 64 Training...\n"
     ]
    },
    {
     "name": "stderr",
     "output_type": "stream",
     "text": [
      "100%|██████████| 782/782 [00:10<00:00, 77.92it/s]\n"
     ]
    },
    {
     "name": "stdout",
     "output_type": "stream",
     "text": [
      "Calculating Accuracy...\n",
      "Epoch 64: model accuracy 65.69%\n",
      "--------------------------------------------------------\n",
      "Epoch 65 Training...\n"
     ]
    },
    {
     "name": "stderr",
     "output_type": "stream",
     "text": [
      "100%|██████████| 782/782 [00:10<00:00, 77.89it/s]\n"
     ]
    },
    {
     "name": "stdout",
     "output_type": "stream",
     "text": [
      "Calculating Accuracy...\n",
      "Epoch 65: model accuracy 66.18%\n",
      "--------------------------------------------------------\n",
      "Epoch 66 Training...\n"
     ]
    },
    {
     "name": "stderr",
     "output_type": "stream",
     "text": [
      "100%|██████████| 782/782 [00:10<00:00, 77.96it/s]\n"
     ]
    },
    {
     "name": "stdout",
     "output_type": "stream",
     "text": [
      "Calculating Accuracy...\n",
      "Epoch 66: model accuracy 65.52%\n",
      "--------------------------------------------------------\n",
      "Epoch 67 Training...\n"
     ]
    },
    {
     "name": "stderr",
     "output_type": "stream",
     "text": [
      "100%|██████████| 782/782 [00:10<00:00, 77.44it/s]\n"
     ]
    },
    {
     "name": "stdout",
     "output_type": "stream",
     "text": [
      "Calculating Accuracy...\n",
      "Epoch 67: model accuracy 66.03%\n",
      "--------------------------------------------------------\n",
      "Epoch 68 Training...\n"
     ]
    },
    {
     "name": "stderr",
     "output_type": "stream",
     "text": [
      "100%|██████████| 782/782 [00:10<00:00, 77.55it/s]\n"
     ]
    },
    {
     "name": "stdout",
     "output_type": "stream",
     "text": [
      "Calculating Accuracy...\n",
      "Epoch 68: model accuracy 65.86%\n",
      "--------------------------------------------------------\n",
      "Epoch 69 Training...\n"
     ]
    },
    {
     "name": "stderr",
     "output_type": "stream",
     "text": [
      "100%|██████████| 782/782 [00:08<00:00, 91.47it/s]\n"
     ]
    },
    {
     "name": "stdout",
     "output_type": "stream",
     "text": [
      "Calculating Accuracy...\n",
      "Epoch 69: model accuracy 66.01%\n",
      "--------------------------------------------------------\n",
      "Epoch 70 Training...\n"
     ]
    },
    {
     "name": "stderr",
     "output_type": "stream",
     "text": [
      "100%|██████████| 782/782 [00:09<00:00, 85.42it/s]\n"
     ]
    },
    {
     "name": "stdout",
     "output_type": "stream",
     "text": [
      "Calculating Accuracy...\n",
      "Epoch 70: model accuracy 66.37%\n",
      "--------------------------------------------------------\n",
      "Epoch 1 Training...\n"
     ]
    },
    {
     "name": "stderr",
     "output_type": "stream",
     "text": [
      "100%|██████████| 782/782 [00:09<00:00, 80.27it/s]\n"
     ]
    },
    {
     "name": "stdout",
     "output_type": "stream",
     "text": [
      "Calculating Accuracy...\n",
      "Epoch 1: model accuracy 45.10%\n",
      "--------------------------------------------------------\n",
      "Epoch 2 Training...\n"
     ]
    },
    {
     "name": "stderr",
     "output_type": "stream",
     "text": [
      "100%|██████████| 782/782 [00:09<00:00, 80.36it/s]\n"
     ]
    },
    {
     "name": "stdout",
     "output_type": "stream",
     "text": [
      "Calculating Accuracy...\n",
      "Epoch 2: model accuracy 51.05%\n",
      "--------------------------------------------------------\n",
      "Epoch 3 Training...\n"
     ]
    },
    {
     "name": "stderr",
     "output_type": "stream",
     "text": [
      "100%|██████████| 782/782 [00:09<00:00, 80.94it/s]\n"
     ]
    },
    {
     "name": "stdout",
     "output_type": "stream",
     "text": [
      "Calculating Accuracy...\n",
      "Epoch 3: model accuracy 56.38%\n",
      "--------------------------------------------------------\n",
      "Epoch 4 Training...\n"
     ]
    },
    {
     "name": "stderr",
     "output_type": "stream",
     "text": [
      "100%|██████████| 782/782 [00:09<00:00, 81.05it/s]\n"
     ]
    },
    {
     "name": "stdout",
     "output_type": "stream",
     "text": [
      "Calculating Accuracy...\n",
      "Epoch 4: model accuracy 59.81%\n",
      "--------------------------------------------------------\n",
      "Epoch 5 Training...\n"
     ]
    },
    {
     "name": "stderr",
     "output_type": "stream",
     "text": [
      "100%|██████████| 782/782 [00:09<00:00, 79.12it/s]\n"
     ]
    },
    {
     "name": "stdout",
     "output_type": "stream",
     "text": [
      "Calculating Accuracy...\n",
      "Epoch 5: model accuracy 60.75%\n",
      "--------------------------------------------------------\n",
      "Epoch 6 Training...\n"
     ]
    },
    {
     "name": "stderr",
     "output_type": "stream",
     "text": [
      "100%|██████████| 782/782 [00:09<00:00, 81.34it/s]\n"
     ]
    },
    {
     "name": "stdout",
     "output_type": "stream",
     "text": [
      "Calculating Accuracy...\n",
      "Epoch 6: model accuracy 63.92%\n",
      "--------------------------------------------------------\n",
      "Epoch 7 Training...\n"
     ]
    },
    {
     "name": "stderr",
     "output_type": "stream",
     "text": [
      "100%|██████████| 782/782 [00:09<00:00, 80.51it/s]\n"
     ]
    },
    {
     "name": "stdout",
     "output_type": "stream",
     "text": [
      "Calculating Accuracy...\n",
      "Epoch 7: model accuracy 65.50%\n",
      "--------------------------------------------------------\n",
      "Epoch 8 Training...\n"
     ]
    },
    {
     "name": "stderr",
     "output_type": "stream",
     "text": [
      "100%|██████████| 782/782 [00:09<00:00, 79.76it/s]\n"
     ]
    },
    {
     "name": "stdout",
     "output_type": "stream",
     "text": [
      "Calculating Accuracy...\n",
      "Epoch 8: model accuracy 66.56%\n",
      "--------------------------------------------------------\n",
      "Epoch 9 Training...\n"
     ]
    },
    {
     "name": "stderr",
     "output_type": "stream",
     "text": [
      "100%|██████████| 782/782 [00:09<00:00, 80.72it/s]\n"
     ]
    },
    {
     "name": "stdout",
     "output_type": "stream",
     "text": [
      "Calculating Accuracy...\n",
      "Epoch 9: model accuracy 66.32%\n",
      "--------------------------------------------------------\n",
      "Epoch 10 Training...\n"
     ]
    },
    {
     "name": "stderr",
     "output_type": "stream",
     "text": [
      "100%|██████████| 782/782 [00:09<00:00, 80.49it/s]\n"
     ]
    },
    {
     "name": "stdout",
     "output_type": "stream",
     "text": [
      "Calculating Accuracy...\n",
      "Epoch 10: model accuracy 68.17%\n",
      "--------------------------------------------------------\n",
      "Epoch 11 Training...\n"
     ]
    },
    {
     "name": "stderr",
     "output_type": "stream",
     "text": [
      "100%|██████████| 782/782 [00:10<00:00, 73.05it/s]\n"
     ]
    },
    {
     "name": "stdout",
     "output_type": "stream",
     "text": [
      "Calculating Accuracy...\n",
      "Epoch 11: model accuracy 68.13%\n",
      "--------------------------------------------------------\n",
      "Epoch 12 Training...\n"
     ]
    },
    {
     "name": "stderr",
     "output_type": "stream",
     "text": [
      "100%|██████████| 782/782 [00:10<00:00, 73.32it/s]\n"
     ]
    },
    {
     "name": "stdout",
     "output_type": "stream",
     "text": [
      "Calculating Accuracy...\n",
      "Epoch 12: model accuracy 68.26%\n",
      "--------------------------------------------------------\n",
      "Epoch 13 Training...\n"
     ]
    },
    {
     "name": "stderr",
     "output_type": "stream",
     "text": [
      "100%|██████████| 782/782 [00:10<00:00, 73.13it/s]\n"
     ]
    },
    {
     "name": "stdout",
     "output_type": "stream",
     "text": [
      "Calculating Accuracy...\n",
      "Epoch 13: model accuracy 69.96%\n",
      "--------------------------------------------------------\n",
      "Epoch 14 Training...\n"
     ]
    },
    {
     "name": "stderr",
     "output_type": "stream",
     "text": [
      "100%|██████████| 782/782 [00:10<00:00, 73.25it/s]\n"
     ]
    },
    {
     "name": "stdout",
     "output_type": "stream",
     "text": [
      "Calculating Accuracy...\n",
      "Epoch 14: model accuracy 70.03%\n",
      "--------------------------------------------------------\n",
      "Epoch 15 Training...\n"
     ]
    },
    {
     "name": "stderr",
     "output_type": "stream",
     "text": [
      "100%|██████████| 782/782 [00:10<00:00, 73.05it/s]\n"
     ]
    },
    {
     "name": "stdout",
     "output_type": "stream",
     "text": [
      "Calculating Accuracy...\n",
      "Epoch 15: model accuracy 71.18%\n",
      "--------------------------------------------------------\n",
      "Epoch 16 Training...\n"
     ]
    },
    {
     "name": "stderr",
     "output_type": "stream",
     "text": [
      "100%|██████████| 782/782 [00:10<00:00, 77.03it/s]\n"
     ]
    },
    {
     "name": "stdout",
     "output_type": "stream",
     "text": [
      "Calculating Accuracy...\n",
      "Epoch 16: model accuracy 72.01%\n",
      "--------------------------------------------------------\n",
      "Epoch 17 Training...\n"
     ]
    },
    {
     "name": "stderr",
     "output_type": "stream",
     "text": [
      "100%|██████████| 782/782 [00:09<00:00, 83.20it/s]\n"
     ]
    },
    {
     "name": "stdout",
     "output_type": "stream",
     "text": [
      "Calculating Accuracy...\n",
      "Epoch 17: model accuracy 72.13%\n",
      "--------------------------------------------------------\n",
      "Epoch 18 Training...\n"
     ]
    },
    {
     "name": "stderr",
     "output_type": "stream",
     "text": [
      "100%|██████████| 782/782 [00:09<00:00, 81.42it/s]\n"
     ]
    },
    {
     "name": "stdout",
     "output_type": "stream",
     "text": [
      "Calculating Accuracy...\n",
      "Epoch 18: model accuracy 72.01%\n",
      "--------------------------------------------------------\n",
      "Epoch 19 Training...\n"
     ]
    },
    {
     "name": "stderr",
     "output_type": "stream",
     "text": [
      "100%|██████████| 782/782 [00:09<00:00, 80.81it/s]\n"
     ]
    },
    {
     "name": "stdout",
     "output_type": "stream",
     "text": [
      "Calculating Accuracy...\n",
      "Epoch 19: model accuracy 72.19%\n",
      "--------------------------------------------------------\n",
      "Epoch 20 Training...\n"
     ]
    },
    {
     "name": "stderr",
     "output_type": "stream",
     "text": [
      "100%|██████████| 782/782 [00:09<00:00, 81.09it/s]\n"
     ]
    },
    {
     "name": "stdout",
     "output_type": "stream",
     "text": [
      "Calculating Accuracy...\n",
      "Epoch 20: model accuracy 71.60%\n",
      "--------------------------------------------------------\n",
      "Epoch 21 Training...\n"
     ]
    },
    {
     "name": "stderr",
     "output_type": "stream",
     "text": [
      "100%|██████████| 782/782 [00:09<00:00, 81.54it/s]\n"
     ]
    },
    {
     "name": "stdout",
     "output_type": "stream",
     "text": [
      "Calculating Accuracy...\n",
      "Epoch 21: model accuracy 72.21%\n",
      "--------------------------------------------------------\n",
      "Epoch 22 Training...\n"
     ]
    },
    {
     "name": "stderr",
     "output_type": "stream",
     "text": [
      "100%|██████████| 782/782 [00:09<00:00, 79.38it/s]\n"
     ]
    },
    {
     "name": "stdout",
     "output_type": "stream",
     "text": [
      "Calculating Accuracy...\n",
      "Epoch 22: model accuracy 72.79%\n",
      "--------------------------------------------------------\n",
      "Epoch 23 Training...\n"
     ]
    },
    {
     "name": "stderr",
     "output_type": "stream",
     "text": [
      "100%|██████████| 782/782 [00:09<00:00, 81.46it/s]\n"
     ]
    },
    {
     "name": "stdout",
     "output_type": "stream",
     "text": [
      "Calculating Accuracy...\n",
      "Epoch 23: model accuracy 71.79%\n",
      "--------------------------------------------------------\n",
      "Epoch 24 Training...\n"
     ]
    },
    {
     "name": "stderr",
     "output_type": "stream",
     "text": [
      "100%|██████████| 782/782 [00:09<00:00, 81.19it/s]\n"
     ]
    },
    {
     "name": "stdout",
     "output_type": "stream",
     "text": [
      "Calculating Accuracy...\n",
      "Epoch 24: model accuracy 72.41%\n",
      "--------------------------------------------------------\n",
      "Epoch 25 Training...\n"
     ]
    },
    {
     "name": "stderr",
     "output_type": "stream",
     "text": [
      "100%|██████████| 782/782 [00:09<00:00, 81.22it/s]\n"
     ]
    },
    {
     "name": "stdout",
     "output_type": "stream",
     "text": [
      "Calculating Accuracy...\n",
      "Epoch 25: model accuracy 72.16%\n",
      "--------------------------------------------------------\n",
      "Epoch 26 Training...\n"
     ]
    },
    {
     "name": "stderr",
     "output_type": "stream",
     "text": [
      "100%|██████████| 782/782 [00:09<00:00, 80.96it/s]\n"
     ]
    },
    {
     "name": "stdout",
     "output_type": "stream",
     "text": [
      "Calculating Accuracy...\n",
      "Epoch 26: model accuracy 72.10%\n",
      "--------------------------------------------------------\n",
      "Epoch 27 Training...\n"
     ]
    },
    {
     "name": "stderr",
     "output_type": "stream",
     "text": [
      "100%|██████████| 782/782 [00:09<00:00, 81.44it/s]\n"
     ]
    },
    {
     "name": "stdout",
     "output_type": "stream",
     "text": [
      "Calculating Accuracy...\n",
      "Epoch 27: model accuracy 71.68%\n",
      "--------------------------------------------------------\n",
      "Epoch 28 Training...\n"
     ]
    },
    {
     "name": "stderr",
     "output_type": "stream",
     "text": [
      "100%|██████████| 782/782 [00:10<00:00, 73.98it/s]\n"
     ]
    },
    {
     "name": "stdout",
     "output_type": "stream",
     "text": [
      "Calculating Accuracy...\n",
      "Epoch 28: model accuracy 72.18%\n",
      "--------------------------------------------------------\n",
      "Epoch 29 Training...\n"
     ]
    },
    {
     "name": "stderr",
     "output_type": "stream",
     "text": [
      "100%|██████████| 782/782 [00:10<00:00, 73.93it/s]\n"
     ]
    },
    {
     "name": "stdout",
     "output_type": "stream",
     "text": [
      "Calculating Accuracy...\n",
      "Epoch 29: model accuracy 71.65%\n",
      "--------------------------------------------------------\n",
      "Epoch 30 Training...\n"
     ]
    },
    {
     "name": "stderr",
     "output_type": "stream",
     "text": [
      "100%|██████████| 782/782 [00:10<00:00, 73.97it/s]\n"
     ]
    },
    {
     "name": "stdout",
     "output_type": "stream",
     "text": [
      "Calculating Accuracy...\n",
      "Epoch 30: model accuracy 70.95%\n",
      "--------------------------------------------------------\n",
      "Epoch 31 Training...\n"
     ]
    },
    {
     "name": "stderr",
     "output_type": "stream",
     "text": [
      "100%|██████████| 782/782 [00:10<00:00, 74.29it/s]\n"
     ]
    },
    {
     "name": "stdout",
     "output_type": "stream",
     "text": [
      "Calculating Accuracy...\n",
      "Epoch 31: model accuracy 72.21%\n",
      "--------------------------------------------------------\n",
      "Epoch 32 Training...\n"
     ]
    },
    {
     "name": "stderr",
     "output_type": "stream",
     "text": [
      "100%|██████████| 782/782 [00:10<00:00, 73.98it/s]\n"
     ]
    },
    {
     "name": "stdout",
     "output_type": "stream",
     "text": [
      "Calculating Accuracy...\n",
      "Epoch 32: model accuracy 71.79%\n",
      "--------------------------------------------------------\n",
      "Epoch 33 Training...\n"
     ]
    },
    {
     "name": "stderr",
     "output_type": "stream",
     "text": [
      "100%|██████████| 782/782 [00:10<00:00, 74.41it/s]\n"
     ]
    },
    {
     "name": "stdout",
     "output_type": "stream",
     "text": [
      "Calculating Accuracy...\n",
      "Epoch 33: model accuracy 71.69%\n",
      "--------------------------------------------------------\n",
      "Epoch 34 Training...\n"
     ]
    },
    {
     "name": "stderr",
     "output_type": "stream",
     "text": [
      "100%|██████████| 782/782 [00:09<00:00, 85.42it/s]\n"
     ]
    },
    {
     "name": "stdout",
     "output_type": "stream",
     "text": [
      "Calculating Accuracy...\n",
      "Epoch 34: model accuracy 72.30%\n",
      "--------------------------------------------------------\n",
      "Epoch 35 Training...\n"
     ]
    },
    {
     "name": "stderr",
     "output_type": "stream",
     "text": [
      "100%|██████████| 782/782 [00:09<00:00, 81.32it/s]\n"
     ]
    },
    {
     "name": "stdout",
     "output_type": "stream",
     "text": [
      "Calculating Accuracy...\n",
      "Epoch 35: model accuracy 71.94%\n",
      "--------------------------------------------------------\n",
      "Epoch 36 Training...\n"
     ]
    },
    {
     "name": "stderr",
     "output_type": "stream",
     "text": [
      "100%|██████████| 782/782 [00:09<00:00, 80.63it/s]\n"
     ]
    },
    {
     "name": "stdout",
     "output_type": "stream",
     "text": [
      "Calculating Accuracy...\n",
      "Epoch 36: model accuracy 71.55%\n",
      "--------------------------------------------------------\n",
      "Epoch 37 Training...\n"
     ]
    },
    {
     "name": "stderr",
     "output_type": "stream",
     "text": [
      "100%|██████████| 782/782 [00:09<00:00, 81.11it/s]\n"
     ]
    },
    {
     "name": "stdout",
     "output_type": "stream",
     "text": [
      "Calculating Accuracy...\n",
      "Epoch 37: model accuracy 71.96%\n",
      "--------------------------------------------------------\n",
      "Epoch 38 Training...\n"
     ]
    },
    {
     "name": "stderr",
     "output_type": "stream",
     "text": [
      "100%|██████████| 782/782 [00:09<00:00, 81.58it/s]\n"
     ]
    },
    {
     "name": "stdout",
     "output_type": "stream",
     "text": [
      "Calculating Accuracy...\n",
      "Epoch 38: model accuracy 70.58%\n",
      "--------------------------------------------------------\n",
      "Epoch 39 Training...\n"
     ]
    },
    {
     "name": "stderr",
     "output_type": "stream",
     "text": [
      "100%|██████████| 782/782 [00:09<00:00, 79.44it/s]\n"
     ]
    },
    {
     "name": "stdout",
     "output_type": "stream",
     "text": [
      "Calculating Accuracy...\n",
      "Epoch 39: model accuracy 71.31%\n",
      "--------------------------------------------------------\n",
      "Epoch 40 Training...\n"
     ]
    },
    {
     "name": "stderr",
     "output_type": "stream",
     "text": [
      "100%|██████████| 782/782 [00:09<00:00, 81.43it/s]\n"
     ]
    },
    {
     "name": "stdout",
     "output_type": "stream",
     "text": [
      "Calculating Accuracy...\n",
      "Epoch 40: model accuracy 70.16%\n",
      "--------------------------------------------------------\n",
      "Epoch 41 Training...\n"
     ]
    },
    {
     "name": "stderr",
     "output_type": "stream",
     "text": [
      "100%|██████████| 782/782 [00:09<00:00, 80.88it/s]\n"
     ]
    },
    {
     "name": "stdout",
     "output_type": "stream",
     "text": [
      "Calculating Accuracy...\n",
      "Epoch 41: model accuracy 70.44%\n",
      "--------------------------------------------------------\n",
      "Epoch 42 Training...\n"
     ]
    },
    {
     "name": "stderr",
     "output_type": "stream",
     "text": [
      "100%|██████████| 782/782 [00:09<00:00, 81.17it/s]\n"
     ]
    },
    {
     "name": "stdout",
     "output_type": "stream",
     "text": [
      "Calculating Accuracy...\n",
      "Epoch 42: model accuracy 71.41%\n",
      "--------------------------------------------------------\n",
      "Epoch 43 Training...\n"
     ]
    },
    {
     "name": "stderr",
     "output_type": "stream",
     "text": [
      "100%|██████████| 782/782 [00:09<00:00, 81.11it/s]\n"
     ]
    },
    {
     "name": "stdout",
     "output_type": "stream",
     "text": [
      "Calculating Accuracy...\n",
      "Epoch 43: model accuracy 72.17%\n",
      "--------------------------------------------------------\n",
      "Epoch 44 Training...\n"
     ]
    },
    {
     "name": "stderr",
     "output_type": "stream",
     "text": [
      "100%|██████████| 782/782 [00:09<00:00, 81.50it/s]\n"
     ]
    },
    {
     "name": "stdout",
     "output_type": "stream",
     "text": [
      "Calculating Accuracy...\n",
      "Epoch 44: model accuracy 71.39%\n",
      "--------------------------------------------------------\n",
      "Epoch 45 Training...\n"
     ]
    },
    {
     "name": "stderr",
     "output_type": "stream",
     "text": [
      "100%|██████████| 782/782 [00:10<00:00, 73.52it/s]\n"
     ]
    },
    {
     "name": "stdout",
     "output_type": "stream",
     "text": [
      "Calculating Accuracy...\n",
      "Epoch 45: model accuracy 71.14%\n",
      "--------------------------------------------------------\n",
      "Epoch 46 Training...\n"
     ]
    },
    {
     "name": "stderr",
     "output_type": "stream",
     "text": [
      "100%|██████████| 782/782 [00:10<00:00, 73.41it/s]\n"
     ]
    },
    {
     "name": "stdout",
     "output_type": "stream",
     "text": [
      "Calculating Accuracy...\n",
      "Epoch 46: model accuracy 71.89%\n",
      "--------------------------------------------------------\n",
      "Epoch 47 Training...\n"
     ]
    },
    {
     "name": "stderr",
     "output_type": "stream",
     "text": [
      "100%|██████████| 782/782 [00:10<00:00, 73.17it/s]\n"
     ]
    },
    {
     "name": "stdout",
     "output_type": "stream",
     "text": [
      "Calculating Accuracy...\n",
      "Epoch 47: model accuracy 72.17%\n",
      "--------------------------------------------------------\n",
      "Epoch 48 Training...\n"
     ]
    },
    {
     "name": "stderr",
     "output_type": "stream",
     "text": [
      "100%|██████████| 782/782 [00:10<00:00, 73.40it/s]\n"
     ]
    },
    {
     "name": "stdout",
     "output_type": "stream",
     "text": [
      "Calculating Accuracy...\n",
      "Epoch 48: model accuracy 70.82%\n",
      "--------------------------------------------------------\n",
      "Epoch 49 Training...\n"
     ]
    },
    {
     "name": "stderr",
     "output_type": "stream",
     "text": [
      "100%|██████████| 782/782 [00:10<00:00, 73.04it/s]\n"
     ]
    },
    {
     "name": "stdout",
     "output_type": "stream",
     "text": [
      "Calculating Accuracy...\n",
      "Epoch 49: model accuracy 71.32%\n",
      "--------------------------------------------------------\n",
      "Epoch 50 Training...\n"
     ]
    },
    {
     "name": "stderr",
     "output_type": "stream",
     "text": [
      "100%|██████████| 782/782 [00:10<00:00, 74.80it/s]\n"
     ]
    },
    {
     "name": "stdout",
     "output_type": "stream",
     "text": [
      "Calculating Accuracy...\n",
      "Epoch 50: model accuracy 71.82%\n",
      "--------------------------------------------------------\n",
      "Epoch 51 Training...\n"
     ]
    },
    {
     "name": "stderr",
     "output_type": "stream",
     "text": [
      "100%|██████████| 782/782 [00:09<00:00, 83.93it/s]\n"
     ]
    },
    {
     "name": "stdout",
     "output_type": "stream",
     "text": [
      "Calculating Accuracy...\n",
      "Epoch 51: model accuracy 72.18%\n",
      "--------------------------------------------------------\n",
      "Epoch 52 Training...\n"
     ]
    },
    {
     "name": "stderr",
     "output_type": "stream",
     "text": [
      "100%|██████████| 782/782 [00:09<00:00, 80.78it/s]\n"
     ]
    },
    {
     "name": "stdout",
     "output_type": "stream",
     "text": [
      "Calculating Accuracy...\n",
      "Epoch 52: model accuracy 72.25%\n",
      "--------------------------------------------------------\n",
      "Epoch 53 Training...\n"
     ]
    },
    {
     "name": "stderr",
     "output_type": "stream",
     "text": [
      "100%|██████████| 782/782 [00:09<00:00, 80.91it/s]\n"
     ]
    },
    {
     "name": "stdout",
     "output_type": "stream",
     "text": [
      "Calculating Accuracy...\n",
      "Epoch 53: model accuracy 72.17%\n",
      "--------------------------------------------------------\n",
      "Epoch 54 Training...\n"
     ]
    },
    {
     "name": "stderr",
     "output_type": "stream",
     "text": [
      "100%|██████████| 782/782 [00:09<00:00, 81.11it/s]\n"
     ]
    },
    {
     "name": "stdout",
     "output_type": "stream",
     "text": [
      "Calculating Accuracy...\n",
      "Epoch 54: model accuracy 71.55%\n",
      "--------------------------------------------------------\n",
      "Epoch 55 Training...\n"
     ]
    },
    {
     "name": "stderr",
     "output_type": "stream",
     "text": [
      "100%|██████████| 782/782 [00:09<00:00, 82.22it/s]\n"
     ]
    },
    {
     "name": "stdout",
     "output_type": "stream",
     "text": [
      "Calculating Accuracy...\n",
      "Epoch 55: model accuracy 71.52%\n",
      "--------------------------------------------------------\n",
      "Epoch 56 Training...\n"
     ]
    },
    {
     "name": "stderr",
     "output_type": "stream",
     "text": [
      "100%|██████████| 782/782 [00:09<00:00, 80.69it/s]\n"
     ]
    },
    {
     "name": "stdout",
     "output_type": "stream",
     "text": [
      "Calculating Accuracy...\n",
      "Epoch 56: model accuracy 72.05%\n",
      "--------------------------------------------------------\n",
      "Epoch 57 Training...\n"
     ]
    },
    {
     "name": "stderr",
     "output_type": "stream",
     "text": [
      "100%|██████████| 782/782 [00:09<00:00, 81.72it/s]\n"
     ]
    },
    {
     "name": "stdout",
     "output_type": "stream",
     "text": [
      "Calculating Accuracy...\n",
      "Epoch 57: model accuracy 71.79%\n",
      "--------------------------------------------------------\n",
      "Epoch 58 Training...\n"
     ]
    },
    {
     "name": "stderr",
     "output_type": "stream",
     "text": [
      "100%|██████████| 782/782 [00:09<00:00, 81.27it/s]\n"
     ]
    },
    {
     "name": "stdout",
     "output_type": "stream",
     "text": [
      "Calculating Accuracy...\n",
      "Epoch 58: model accuracy 72.33%\n",
      "--------------------------------------------------------\n",
      "Epoch 59 Training...\n"
     ]
    },
    {
     "name": "stderr",
     "output_type": "stream",
     "text": [
      "100%|██████████| 782/782 [00:09<00:00, 81.09it/s]\n"
     ]
    },
    {
     "name": "stdout",
     "output_type": "stream",
     "text": [
      "Calculating Accuracy...\n",
      "Epoch 59: model accuracy 72.19%\n",
      "--------------------------------------------------------\n",
      "Epoch 60 Training...\n"
     ]
    },
    {
     "name": "stderr",
     "output_type": "stream",
     "text": [
      "100%|██████████| 782/782 [00:09<00:00, 80.27it/s]\n"
     ]
    },
    {
     "name": "stdout",
     "output_type": "stream",
     "text": [
      "Calculating Accuracy...\n",
      "Epoch 60: model accuracy 71.77%\n",
      "--------------------------------------------------------\n",
      "Epoch 61 Training...\n"
     ]
    },
    {
     "name": "stderr",
     "output_type": "stream",
     "text": [
      "100%|██████████| 782/782 [00:09<00:00, 78.29it/s]\n"
     ]
    },
    {
     "name": "stdout",
     "output_type": "stream",
     "text": [
      "Calculating Accuracy...\n",
      "Epoch 61: model accuracy 70.58%\n",
      "--------------------------------------------------------\n",
      "Epoch 62 Training...\n"
     ]
    },
    {
     "name": "stderr",
     "output_type": "stream",
     "text": [
      "100%|██████████| 782/782 [00:10<00:00, 73.90it/s]\n"
     ]
    },
    {
     "name": "stdout",
     "output_type": "stream",
     "text": [
      "Calculating Accuracy...\n",
      "Epoch 62: model accuracy 72.39%\n",
      "--------------------------------------------------------\n",
      "Epoch 63 Training...\n"
     ]
    },
    {
     "name": "stderr",
     "output_type": "stream",
     "text": [
      "100%|██████████| 782/782 [00:10<00:00, 73.46it/s]\n"
     ]
    },
    {
     "name": "stdout",
     "output_type": "stream",
     "text": [
      "Calculating Accuracy...\n",
      "Epoch 63: model accuracy 71.97%\n",
      "--------------------------------------------------------\n",
      "Epoch 64 Training...\n"
     ]
    },
    {
     "name": "stderr",
     "output_type": "stream",
     "text": [
      "100%|██████████| 782/782 [00:10<00:00, 73.16it/s]\n"
     ]
    },
    {
     "name": "stdout",
     "output_type": "stream",
     "text": [
      "Calculating Accuracy...\n",
      "Epoch 64: model accuracy 71.96%\n",
      "--------------------------------------------------------\n",
      "Epoch 65 Training...\n"
     ]
    },
    {
     "name": "stderr",
     "output_type": "stream",
     "text": [
      "100%|██████████| 782/782 [00:10<00:00, 73.33it/s]\n"
     ]
    },
    {
     "name": "stdout",
     "output_type": "stream",
     "text": [
      "Calculating Accuracy...\n",
      "Epoch 65: model accuracy 72.32%\n",
      "--------------------------------------------------------\n",
      "Epoch 66 Training...\n"
     ]
    },
    {
     "name": "stderr",
     "output_type": "stream",
     "text": [
      "100%|██████████| 782/782 [00:10<00:00, 73.05it/s]\n"
     ]
    },
    {
     "name": "stdout",
     "output_type": "stream",
     "text": [
      "Calculating Accuracy...\n",
      "Epoch 66: model accuracy 71.94%\n",
      "--------------------------------------------------------\n",
      "Epoch 67 Training...\n"
     ]
    },
    {
     "name": "stderr",
     "output_type": "stream",
     "text": [
      "100%|██████████| 782/782 [00:09<00:00, 83.15it/s]\n"
     ]
    },
    {
     "name": "stdout",
     "output_type": "stream",
     "text": [
      "Calculating Accuracy...\n",
      "Epoch 67: model accuracy 73.02%\n",
      "--------------------------------------------------------\n",
      "Epoch 68 Training...\n"
     ]
    },
    {
     "name": "stderr",
     "output_type": "stream",
     "text": [
      "100%|██████████| 782/782 [00:09<00:00, 81.45it/s]\n"
     ]
    },
    {
     "name": "stdout",
     "output_type": "stream",
     "text": [
      "Calculating Accuracy...\n",
      "Epoch 68: model accuracy 70.13%\n",
      "--------------------------------------------------------\n",
      "Epoch 69 Training...\n"
     ]
    },
    {
     "name": "stderr",
     "output_type": "stream",
     "text": [
      "100%|██████████| 782/782 [00:09<00:00, 80.89it/s]\n"
     ]
    },
    {
     "name": "stdout",
     "output_type": "stream",
     "text": [
      "Calculating Accuracy...\n",
      "Epoch 69: model accuracy 72.04%\n",
      "--------------------------------------------------------\n",
      "Epoch 70 Training...\n"
     ]
    },
    {
     "name": "stderr",
     "output_type": "stream",
     "text": [
      "100%|██████████| 782/782 [00:09<00:00, 81.08it/s]\n"
     ]
    },
    {
     "name": "stdout",
     "output_type": "stream",
     "text": [
      "Calculating Accuracy...\n",
      "Epoch 70: model accuracy 73.18%\n",
      "--------------------------------------------------------\n"
     ]
    },
    {
     "data": {
      "image/png": "[encoded data removed]",
      "text/plain": [
       "<Figure size 640x480 with 1 Axes>"
      ]
     },
     "metadata": {},
     "output_type": "display_data"
    },
    {
     "data": {
      "image/png": "[encoded data removed]",
      "text/plain": [
       "<Figure size 640x480 with 1 Axes>"
      ]
     },
     "metadata": {},
     "output_type": "display_data"
    }
   ],
   "source": [
    "if __name__=='__main__':\n",
    "    Epoch = 70\n",
    "\n",
    "    model = my_cnn().to(device)\n",
    "    epochs, loss_train, accuracy_train = Train_(model,Epoch)\n",
    "    \n",
    "    model1 = my_cnn1().to(device)\n",
    "    epochs1, loss_train1, accuracy_train1 = Train_(model1,Epoch)\n",
    "    \n",
    "    plt.plot(epochs, loss_train, label='Model 1')\n",
    "    plt.plot(epochs1, loss_train1, label='Model 2')\n",
    "    plt.legend()\n",
    "    plt.title('CNN Loss VS Epoch')\n",
    "    plt.xlabel('Epoch')\n",
    "    plt.ylabel('Loss')\n",
    "    plt.show()\n",
    "    \n",
    "    plt.plot(epochs, accuracy_train, label='Model 1')\n",
    "    plt.plot(epochs1, accuracy_train1, label='Model 2')\n",
    "    plt.legend()\n",
    "    plt.title('CNN Accuracy VS Epoch')\n",
    "    plt.xlabel('Epoch')\n",
    "    plt.ylabel('Accuracy')\n",
    "    plt.show()"
   ]
  },
  {
   "cell_type": "code",
   "execution_count": 6,
   "metadata": {},
   "outputs": [],
   "source": [
    "# CIFAR10_classes = ['Airplane', 'Automobile', 'Bird', 'Cat', 'Deer', 'Dog', 'Frog', 'Horse', 'Ship', 'Truck']\n",
    "# model = my_cnn()\n",
    "# out = Test_(model,test_image)\n",
    "# idx = torch.argmax(out,1)\n",
    "# percent = nn.functional.softmax(out,dim=1)[0]*100\n",
    "# print(CIFAR10_classes[idx], ':', percent[idx].item())"
   ]
  }
 ],
 "metadata": {
  "kernelspec": {
   "display_name": "Python 3 (ipykernel)",
   "language": "python",
   "name": "python3"
  },
  "language_info": {
   "codemirror_mode": {
    "name": "ipython",
    "version": 3
   },
   "file_extension": ".py",
   "mimetype": "text/x-python",
   "name": "python",
   "nbconvert_exporter": "python",
   "pygments_lexer": "ipython3",
   "version": "3.9.18"
  }
 },
 "nbformat": 4,
 "nbformat_minor": 4
}
