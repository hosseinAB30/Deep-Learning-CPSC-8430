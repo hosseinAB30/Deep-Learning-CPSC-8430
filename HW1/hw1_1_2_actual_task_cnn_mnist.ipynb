{
 "cells": [
  {
   "cell_type": "code",
   "execution_count": 1,
   "metadata": {},
   "outputs": [
    {
     "data": {
      "text/plain": [
       "<torch._C.Generator at 0x14e9a1aa4870>"
      ]
     },
     "execution_count": 1,
     "metadata": {},
     "output_type": "execute_result"
    }
   ],
   "source": [
    "import torch\n",
    "import torch.nn as nn\n",
    "import torchvision\n",
    "import torchvision.transforms as transform\n",
    "from torch.utils.data import DataLoader\n",
    "from PIL import Image\n",
    "from tqdm import tqdm\n",
    "import matplotlib.pyplot as plt\n",
    "import os\n",
    "os.environ['KMP_DUPLICATE_LIB_OK'] ='True'\n",
    "torch.manual_seed(1)"
   ]
  },
  {
   "cell_type": "code",
   "execution_count": 2,
   "metadata": {},
   "outputs": [],
   "source": [
    "device = 'cuda' if torch.cuda.is_available() else 'cpu'"
   ]
  },
  {
   "cell_type": "code",
   "execution_count": 3,
   "metadata": {},
   "outputs": [],
   "source": [
    "Transform = transform.Compose([transform.ToTensor()])\n",
    "\n",
    "trainset = torchvision.datasets.MNIST(root='./data_mnist/',train=True,download=True,transform=Transform)\n",
    "testset = torchvision.datasets.MNIST(root='./data_mnist/',train=False,download=True,transform=Transform)\n",
    "\n",
    "trainloader = DataLoader(trainset,batch_size=64,shuffle=True)\n",
    "testloader = DataLoader(testset,batch_size=64,shuffle=True)"
   ]
  },
  {
   "cell_type": "code",
   "execution_count": 4,
   "metadata": {},
   "outputs": [],
   "source": [
    "class my_cnn(nn.Module):\n",
    "    def __init__(self):\n",
    "        super().__init__()\n",
    "        self.conv1 = nn.Conv2d(1,10,3)\n",
    "        self.act1 = nn.ReLU()\n",
    "        self.pool1 = nn.MaxPool2d(kernel_size=(2,2))\n",
    "\n",
    "        self.conv2 = nn.Conv2d(10,16,3)\n",
    "        self.act2 = nn.ReLU()\n",
    "        self.pool2 = nn.MaxPool2d(kernel_size=(2,2))\n",
    "\n",
    "        self.flat = nn.Flatten()\n",
    "\n",
    "        self.fc3 = nn.Linear(16*5*5,512)\n",
    "        self.act3 = nn.ReLU()\n",
    "\n",
    "        self.fc4 = nn.Linear(512,256)\n",
    "        self.act4 = nn.ReLU()\n",
    "        \n",
    "        self.fc5 = nn.Linear(256,125)\n",
    "        self.act5 = nn.ReLU()\n",
    "        \n",
    "        self.fc6 = nn.Linear(125,10)\n",
    "\n",
    "        self.cross_ent = nn.CrossEntropyLoss()\n",
    "    \n",
    "    def forward(self, x):\n",
    "        x = self.act1(self.conv1(x))\n",
    "        x = self.pool1(x)\n",
    "        \n",
    "        x = self.act2(self.conv2(x))\n",
    "        x = self.pool2(x)\n",
    "        \n",
    "        x = self.flat(x)\n",
    "        \n",
    "        x = self.act3(self.fc3(x))\n",
    "        x = self.act4(self.fc4(x))\n",
    "        x = self.act5(self.fc5(x))\n",
    "        x = self.fc6(x)\n",
    "        return x\n",
    "\n",
    "class my_cnn1(nn.Module):\n",
    "    def __init__(self):\n",
    "        super().__init__()\n",
    "        self.conv1 = nn.Conv2d(1,32,5)\n",
    "        self.act1 = nn.ReLU()\n",
    "\n",
    "        self.conv2 = nn.Conv2d(32,32,5)\n",
    "        self.act2 = nn.ReLU()\n",
    "        self.pool2 = nn.MaxPool2d(kernel_size=(2,2))\n",
    "        self.drop2 = nn.Dropout(0.5)\n",
    "        \n",
    "        self.conv3 = nn.Conv2d(32,64,5)\n",
    "        self.act3 = nn.ReLU()\n",
    "        self.pool3 = nn.MaxPool2d(kernel_size=(2,2))\n",
    "        self.drop3 = nn.Dropout(0.5)\n",
    "\n",
    "        self.flat = nn.Flatten()\n",
    "\n",
    "        self.fc4 = nn.Linear(576,256)\n",
    "        self.act4 = nn.ReLU()\n",
    "        self.drop4 = nn.Dropout(0.5)\n",
    "\n",
    "        self.fc5 = nn.Linear(256,10)\n",
    "\n",
    "        self.cross_ent = nn.CrossEntropyLoss()\n",
    "    \n",
    "    def forward(self, x):\n",
    "        x = self.act1(self.conv1(x))\n",
    "        \n",
    "        x = self.act2(self.conv2(x))\n",
    "        x = self.pool2(x)\n",
    "        x = self.drop2(x)\n",
    "        \n",
    "        x = self.act3(self.conv3(x))\n",
    "        x = self.pool3(x)\n",
    "        x = self.drop3(x)\n",
    "        \n",
    "        x = self.flat(x)\n",
    "        \n",
    "        x = self.act4(self.fc4(x))\n",
    "        x = self.drop4(x)\n",
    "        \n",
    "        x = self.fc5(x)\n",
    "        return x\n",
    "    \n",
    "def Train_(model,Epoch):\n",
    "    optimizer = torch.optim.Adam(model.parameters(), lr=1e-4)\n",
    "    loss_train = []\n",
    "    epochs = []\n",
    "    accuracy_train = []\n",
    "    loss_per_batch = 0\n",
    "    for epoch in range(1,Epoch+1):\n",
    "        print('Epoch {} Training...'.format(epoch))\n",
    "        for input, label in tqdm(trainloader):\n",
    "            input, label = input.to(device), label.to(device)\n",
    "            y_hat = model(input).to(device)\n",
    "            loss = model.cross_ent(y_hat,label)\n",
    "            optimizer.zero_grad()\n",
    "            loss.backward()\n",
    "            optimizer.step()\n",
    "            loss_per_batch += loss.data\n",
    "        \n",
    "        print('Calculating Accuracy...')\n",
    "        acc = 0\n",
    "        count = 0\n",
    "        for input, label in testloader:\n",
    "            input, label = input.to(device), label.to(device)\n",
    "            y_hat = model(input).to(device)\n",
    "            acc += (torch.argmax(y_hat,dim=1) == label).float().sum()\n",
    "            count += len(label)\n",
    "        acc /= count\n",
    "        print('Epoch {}: model accuracy {:.2f}%'.format(epoch, acc*100))\n",
    "        print('--------------------------------------------------------')\n",
    "        \n",
    "        epochs.append(epoch)\n",
    "        accuracy_train.append(acc.cpu().data.numpy().item())\n",
    "        loss_per_batch /= count\n",
    "        loss_train.append(loss_per_batch.cpu().data.numpy().item())\n",
    "    torch.save(model.state_dict(),'cnn_saved_model.pth')\n",
    "    return epochs, loss_train, accuracy_train"
   ]
  },
  {
   "cell_type": "code",
   "execution_count": 5,
   "metadata": {},
   "outputs": [
    {
     "name": "stdout",
     "output_type": "stream",
     "text": [
      "Epoch 1 Training...\n"
     ]
    },
    {
     "name": "stderr",
     "output_type": "stream",
     "text": [
      "100%|██████████| 938/938 [00:10<00:00, 93.31it/s] \n"
     ]
    },
    {
     "name": "stdout",
     "output_type": "stream",
     "text": [
      "Calculating Accuracy...\n",
      "Epoch 1: model accuracy 90.93%\n",
      "--------------------------------------------------------\n",
      "Epoch 2 Training...\n"
     ]
    },
    {
     "name": "stderr",
     "output_type": "stream",
     "text": [
      "100%|██████████| 938/938 [00:09<00:00, 102.85it/s]\n"
     ]
    },
    {
     "name": "stdout",
     "output_type": "stream",
     "text": [
      "Calculating Accuracy...\n",
      "Epoch 2: model accuracy 93.95%\n",
      "--------------------------------------------------------\n",
      "Epoch 3 Training...\n"
     ]
    },
    {
     "name": "stderr",
     "output_type": "stream",
     "text": [
      "100%|██████████| 938/938 [00:09<00:00, 102.63it/s]\n"
     ]
    },
    {
     "name": "stdout",
     "output_type": "stream",
     "text": [
      "Calculating Accuracy...\n",
      "Epoch 3: model accuracy 96.05%\n",
      "--------------------------------------------------------\n",
      "Epoch 4 Training...\n"
     ]
    },
    {
     "name": "stderr",
     "output_type": "stream",
     "text": [
      "100%|██████████| 938/938 [00:09<00:00, 102.43it/s]\n"
     ]
    },
    {
     "name": "stdout",
     "output_type": "stream",
     "text": [
      "Calculating Accuracy...\n",
      "Epoch 4: model accuracy 97.10%\n",
      "--------------------------------------------------------\n",
      "Epoch 5 Training...\n"
     ]
    },
    {
     "name": "stderr",
     "output_type": "stream",
     "text": [
      "100%|██████████| 938/938 [00:09<00:00, 102.02it/s]\n"
     ]
    },
    {
     "name": "stdout",
     "output_type": "stream",
     "text": [
      "Calculating Accuracy...\n",
      "Epoch 5: model accuracy 97.49%\n",
      "--------------------------------------------------------\n",
      "Epoch 6 Training...\n"
     ]
    },
    {
     "name": "stderr",
     "output_type": "stream",
     "text": [
      "100%|██████████| 938/938 [00:09<00:00, 101.65it/s]\n"
     ]
    },
    {
     "name": "stdout",
     "output_type": "stream",
     "text": [
      "Calculating Accuracy...\n",
      "Epoch 6: model accuracy 97.88%\n",
      "--------------------------------------------------------\n",
      "Epoch 7 Training...\n"
     ]
    },
    {
     "name": "stderr",
     "output_type": "stream",
     "text": [
      "100%|██████████| 938/938 [00:09<00:00, 102.78it/s]\n"
     ]
    },
    {
     "name": "stdout",
     "output_type": "stream",
     "text": [
      "Calculating Accuracy...\n",
      "Epoch 7: model accuracy 97.81%\n",
      "--------------------------------------------------------\n",
      "Epoch 8 Training...\n"
     ]
    },
    {
     "name": "stderr",
     "output_type": "stream",
     "text": [
      "100%|██████████| 938/938 [00:09<00:00, 102.64it/s]\n"
     ]
    },
    {
     "name": "stdout",
     "output_type": "stream",
     "text": [
      "Calculating Accuracy...\n",
      "Epoch 8: model accuracy 97.86%\n",
      "--------------------------------------------------------\n",
      "Epoch 9 Training...\n"
     ]
    },
    {
     "name": "stderr",
     "output_type": "stream",
     "text": [
      "100%|██████████| 938/938 [00:09<00:00, 103.03it/s]\n"
     ]
    },
    {
     "name": "stdout",
     "output_type": "stream",
     "text": [
      "Calculating Accuracy...\n",
      "Epoch 9: model accuracy 98.41%\n",
      "--------------------------------------------------------\n",
      "Epoch 10 Training...\n"
     ]
    },
    {
     "name": "stderr",
     "output_type": "stream",
     "text": [
      "100%|██████████| 938/938 [00:09<00:00, 103.22it/s]\n"
     ]
    },
    {
     "name": "stdout",
     "output_type": "stream",
     "text": [
      "Calculating Accuracy...\n",
      "Epoch 10: model accuracy 98.37%\n",
      "--------------------------------------------------------\n",
      "Epoch 1 Training...\n"
     ]
    },
    {
     "name": "stderr",
     "output_type": "stream",
     "text": [
      "100%|██████████| 938/938 [00:09<00:00, 101.24it/s]\n"
     ]
    },
    {
     "name": "stdout",
     "output_type": "stream",
     "text": [
      "Calculating Accuracy...\n",
      "Epoch 1: model accuracy 90.46%\n",
      "--------------------------------------------------------\n",
      "Epoch 2 Training...\n"
     ]
    },
    {
     "name": "stderr",
     "output_type": "stream",
     "text": [
      "100%|██████████| 938/938 [00:09<00:00, 101.79it/s]\n"
     ]
    },
    {
     "name": "stdout",
     "output_type": "stream",
     "text": [
      "Calculating Accuracy...\n",
      "Epoch 2: model accuracy 94.00%\n",
      "--------------------------------------------------------\n",
      "Epoch 3 Training...\n"
     ]
    },
    {
     "name": "stderr",
     "output_type": "stream",
     "text": [
      "100%|██████████| 938/938 [00:09<00:00, 101.94it/s]\n"
     ]
    },
    {
     "name": "stdout",
     "output_type": "stream",
     "text": [
      "Calculating Accuracy...\n",
      "Epoch 3: model accuracy 95.70%\n",
      "--------------------------------------------------------\n",
      "Epoch 4 Training...\n"
     ]
    },
    {
     "name": "stderr",
     "output_type": "stream",
     "text": [
      "100%|██████████| 938/938 [00:09<00:00, 101.67it/s]\n"
     ]
    },
    {
     "name": "stdout",
     "output_type": "stream",
     "text": [
      "Calculating Accuracy...\n",
      "Epoch 4: model accuracy 96.34%\n",
      "--------------------------------------------------------\n",
      "Epoch 5 Training...\n"
     ]
    },
    {
     "name": "stderr",
     "output_type": "stream",
     "text": [
      "100%|██████████| 938/938 [00:09<00:00, 101.50it/s]\n"
     ]
    },
    {
     "name": "stdout",
     "output_type": "stream",
     "text": [
      "Calculating Accuracy...\n",
      "Epoch 5: model accuracy 96.65%\n",
      "--------------------------------------------------------\n",
      "Epoch 6 Training...\n"
     ]
    },
    {
     "name": "stderr",
     "output_type": "stream",
     "text": [
      "100%|██████████| 938/938 [00:09<00:00, 101.87it/s]\n"
     ]
    },
    {
     "name": "stdout",
     "output_type": "stream",
     "text": [
      "Calculating Accuracy...\n",
      "Epoch 6: model accuracy 97.08%\n",
      "--------------------------------------------------------\n",
      "Epoch 7 Training...\n"
     ]
    },
    {
     "name": "stderr",
     "output_type": "stream",
     "text": [
      "100%|██████████| 938/938 [00:09<00:00, 101.79it/s]\n"
     ]
    },
    {
     "name": "stdout",
     "output_type": "stream",
     "text": [
      "Calculating Accuracy...\n",
      "Epoch 7: model accuracy 97.52%\n",
      "--------------------------------------------------------\n",
      "Epoch 8 Training...\n"
     ]
    },
    {
     "name": "stderr",
     "output_type": "stream",
     "text": [
      "100%|██████████| 938/938 [00:09<00:00, 101.37it/s]\n"
     ]
    },
    {
     "name": "stdout",
     "output_type": "stream",
     "text": [
      "Calculating Accuracy...\n",
      "Epoch 8: model accuracy 97.44%\n",
      "--------------------------------------------------------\n",
      "Epoch 9 Training...\n"
     ]
    },
    {
     "name": "stderr",
     "output_type": "stream",
     "text": [
      "100%|██████████| 938/938 [00:09<00:00, 101.96it/s]\n"
     ]
    },
    {
     "name": "stdout",
     "output_type": "stream",
     "text": [
      "Calculating Accuracy...\n",
      "Epoch 9: model accuracy 97.83%\n",
      "--------------------------------------------------------\n",
      "Epoch 10 Training...\n"
     ]
    },
    {
     "name": "stderr",
     "output_type": "stream",
     "text": [
      "100%|██████████| 938/938 [00:09<00:00, 101.53it/s]\n"
     ]
    },
    {
     "name": "stdout",
     "output_type": "stream",
     "text": [
      "Calculating Accuracy...\n",
      "Epoch 10: model accuracy 98.14%\n",
      "--------------------------------------------------------\n"
     ]
    },
    {
     "data": {
      "image/png": "[encoded data removed]",
      "text/plain": [
       "<Figure size 640x480 with 1 Axes>"
      ]
     },
     "metadata": {},
     "output_type": "display_data"
    },
    {
     "data": {
      "image/png": "[encoded data removed]",
      "text/plain": [
       "<Figure size 640x480 with 1 Axes>"
      ]
     },
     "metadata": {},
     "output_type": "display_data"
    }
   ],
   "source": [
    "if __name__=='__main__':\n",
    "    Epoch = 10\n",
    "\n",
    "    model = my_cnn().to(device)\n",
    "    epochs, loss_train, accuracy_train = Train_(model,Epoch)\n",
    "    \n",
    "    model1 = my_cnn1().to(device)\n",
    "    epochs1, loss_train1, accuracy_train1 = Train_(model1,Epoch)\n",
    "    \n",
    "    plt.plot(epochs, loss_train, label='Model 1')\n",
    "    plt.plot(epochs1, loss_train1, label='Model 2')\n",
    "    plt.legend()\n",
    "    plt.title('CNN Loss VS Epoch')\n",
    "    plt.xlabel('Epoch')\n",
    "    plt.ylabel('Loss')\n",
    "    plt.show()\n",
    "    \n",
    "    plt.plot(epochs, accuracy_train, label='Model 1')\n",
    "    plt.plot(epochs1, accuracy_train1, label='Model 2')\n",
    "    plt.legend()\n",
    "    plt.title('CNN Accuracy VS Epoch')\n",
    "    plt.xlabel('Epoch')\n",
    "    plt.ylabel('Accuracy')\n",
    "    plt.show()"
   ]
  }
 ],
 "metadata": {
  "kernelspec": {
   "display_name": "Python 3 (ipykernel)",
   "language": "python",
   "name": "python3"
  },
  "language_info": {
   "codemirror_mode": {
    "name": "ipython",
    "version": 3
   },
   "file_extension": ".py",
   "mimetype": "text/x-python",
   "name": "python",
   "nbconvert_exporter": "python",
   "pygments_lexer": "ipython3",
   "version": "3.9.13"
  }
 },
 "nbformat": 4,
 "nbformat_minor": 4
}
