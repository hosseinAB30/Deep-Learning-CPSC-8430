{
 "cells": [
  {
   "cell_type": "code",
   "execution_count": 1,
   "metadata": {},
   "outputs": [
    {
     "data": {
      "text/plain": [
       "<torch._C.Generator at 0x14e1bda29850>"
      ]
     },
     "execution_count": 1,
     "metadata": {},
     "output_type": "execute_result"
    }
   ],
   "source": [
    "import numpy as np\n",
    "import torch\n",
    "import torch.nn as nn\n",
    "import torchvision\n",
    "import torchvision.transforms as transform\n",
    "from torch.utils.data import DataLoader\n",
    "from PIL import Image\n",
    "from tqdm import tqdm\n",
    "import matplotlib.pyplot as plt\n",
    "import os\n",
    "os.environ['KMP_DUPLICATE_LIB_OK'] ='True'\n",
    "torch.manual_seed(1)"
   ]
  },
  {
   "cell_type": "code",
   "execution_count": 2,
   "metadata": {},
   "outputs": [],
   "source": [
    "device = 'cuda' if torch.cuda.is_available() else 'cpu'"
   ]
  },
  {
   "cell_type": "code",
   "execution_count": 3,
   "metadata": {},
   "outputs": [],
   "source": [
    "Transform = transform.Compose([transform.ToTensor()])\n",
    "\n",
    "trainset = torchvision.datasets.MNIST(root='./data_mnist/',train=True,download=True,transform=Transform)\n",
    "testset = torchvision.datasets.MNIST(root='./data_mnist/',train=False,download=True,transform=Transform)\n",
    "\n",
    "trainloader = DataLoader(trainset,batch_size=64,shuffle=True)\n",
    "testloader = DataLoader(testset,batch_size=64,shuffle=True)"
   ]
  },
  {
   "cell_type": "code",
   "execution_count": 4,
   "metadata": {},
   "outputs": [],
   "source": [
    "class m1(nn.Module):\n",
    "    def __init__(self):\n",
    "        super().__init__()\n",
    "        self.fc1 = nn.Linear(784,4)\n",
    "        self.act1 = nn.ReLU()\n",
    "        self.fc2 = nn.Linear(4,8)\n",
    "        self.act2 = nn.ReLU()\n",
    "        self.fc3 = nn.Linear(8,10)\n",
    "        self.cross_ent = nn.CrossEntropyLoss()\n",
    "    def forward(self, x):\n",
    "        x = self.act1(self.fc1(x))\n",
    "        x = self.act2(self.fc2(x))\n",
    "        x = self.fc3(x)\n",
    "        return x\n",
    "\n",
    "class m2(nn.Module):\n",
    "    def __init__(self):\n",
    "        super().__init__()\n",
    "        self.fc1 = nn.Linear(784,8)\n",
    "        self.act1 = nn.ReLU()\n",
    "        self.fc2 = nn.Linear(8,16)\n",
    "        self.act2 = nn.ReLU()\n",
    "        self.fc3 = nn.Linear(16,10)\n",
    "        self.cross_ent = nn.CrossEntropyLoss()\n",
    "    def forward(self, x):\n",
    "        x = self.act1(self.fc1(x))\n",
    "        x = self.act2(self.fc2(x))\n",
    "        x = self.fc3(x)\n",
    "        return x\n",
    "    \n",
    "class m3(nn.Module):\n",
    "    def __init__(self):\n",
    "        super().__init__()\n",
    "        self.fc1 = nn.Linear(784,16)\n",
    "        self.act1 = nn.ReLU()\n",
    "        self.fc2 = nn.Linear(16,32)\n",
    "        self.act2 = nn.ReLU()\n",
    "        self.fc3 = nn.Linear(32,10)\n",
    "        self.cross_ent = nn.CrossEntropyLoss()\n",
    "    def forward(self, x):\n",
    "        x = self.act1(self.fc1(x))\n",
    "        x = self.act2(self.fc2(x))\n",
    "        x = self.fc3(x)\n",
    "        return x\n",
    "    \n",
    "class m4(nn.Module):\n",
    "    def __init__(self):\n",
    "        super().__init__()\n",
    "        self.fc1 = nn.Linear(784,32)\n",
    "        self.act1 = nn.ReLU()\n",
    "        self.fc2 = nn.Linear(32,64)\n",
    "        self.act2 = nn.ReLU()\n",
    "        self.fc3 = nn.Linear(64,10)\n",
    "        self.cross_ent = nn.CrossEntropyLoss()\n",
    "    def forward(self, x):\n",
    "        x = self.act1(self.fc1(x))\n",
    "        x = self.act2(self.fc2(x))\n",
    "        x = self.fc3(x)\n",
    "        return x\n",
    "    \n",
    "class m5(nn.Module):\n",
    "    def __init__(self):\n",
    "        super().__init__()\n",
    "        self.fc1 = nn.Linear(784,64)\n",
    "        self.act1 = nn.ReLU()\n",
    "        self.fc2 = nn.Linear(64,128)\n",
    "        self.act2 = nn.ReLU()\n",
    "        self.fc3 = nn.Linear(128,10)\n",
    "        self.cross_ent = nn.CrossEntropyLoss()\n",
    "    def forward(self, x):\n",
    "        x = self.act1(self.fc1(x))\n",
    "        x = self.act2(self.fc2(x))\n",
    "        x = self.fc3(x)\n",
    "        return x\n",
    "\n",
    "class m6(nn.Module):\n",
    "    def __init__(self):\n",
    "        super().__init__()\n",
    "        self.fc1 = nn.Linear(784,100)\n",
    "        self.act1 = nn.ReLU()\n",
    "        self.fc2 = nn.Linear(100,200)\n",
    "        self.act2 = nn.ReLU()\n",
    "        self.fc3 = nn.Linear(200,10)\n",
    "        self.cross_ent = nn.CrossEntropyLoss()\n",
    "    def forward(self, x):\n",
    "        x = self.act1(self.fc1(x))\n",
    "        x = self.act2(self.fc2(x))\n",
    "        x = self.fc3(x)\n",
    "        return x\n",
    "    \n",
    "class m7(nn.Module):\n",
    "    def __init__(self):\n",
    "        super().__init__()\n",
    "        self.fc1 = nn.Linear(784,128)\n",
    "        self.act1 = nn.ReLU()\n",
    "        self.fc2 = nn.Linear(128,256)\n",
    "        self.act2 = nn.ReLU()\n",
    "        self.fc3 = nn.Linear(256,10)\n",
    "        self.cross_ent = nn.CrossEntropyLoss()\n",
    "    def forward(self, x):\n",
    "        x = self.act1(self.fc1(x))\n",
    "        x = self.act2(self.fc2(x))\n",
    "        x = self.fc3(x)\n",
    "        return x\n",
    "\n",
    "class m8(nn.Module):\n",
    "    def __init__(self):\n",
    "        super().__init__()\n",
    "        self.fc1 = nn.Linear(784,200)\n",
    "        self.act1 = nn.ReLU()\n",
    "        self.fc2 = nn.Linear(200,300)\n",
    "        self.act2 = nn.ReLU()\n",
    "        self.fc3 = nn.Linear(300,10)\n",
    "        self.cross_ent = nn.CrossEntropyLoss()\n",
    "    def forward(self, x):\n",
    "        x = self.act1(self.fc1(x))\n",
    "        x = self.act2(self.fc2(x))\n",
    "        x = self.fc3(x)\n",
    "        return x\n",
    "\n",
    "class m9(nn.Module):\n",
    "    def __init__(self):\n",
    "        super().__init__()\n",
    "        self.fc1 = nn.Linear(784,256)\n",
    "        self.act1 = nn.ReLU()\n",
    "        self.fc2 = nn.Linear(256,400)\n",
    "        self.act2 = nn.ReLU()\n",
    "        self.fc3 = nn.Linear(400,10)\n",
    "        self.cross_ent = nn.CrossEntropyLoss()\n",
    "    def forward(self, x):\n",
    "        x = self.act1(self.fc1(x))\n",
    "        x = self.act2(self.fc2(x))\n",
    "        x = self.fc3(x)\n",
    "        return x\n",
    "\n",
    "class m10(nn.Module):\n",
    "    def __init__(self):\n",
    "        super().__init__()\n",
    "        self.fc1 = nn.Linear(784,256)\n",
    "        self.act1 = nn.ReLU()\n",
    "        self.fc2 = nn.Linear(256,512)\n",
    "        self.act2 = nn.ReLU()\n",
    "        self.fc3 = nn.Linear(512,10)\n",
    "        self.cross_ent = nn.CrossEntropyLoss()\n",
    "    def forward(self, x):\n",
    "        x = self.act1(self.fc1(x))\n",
    "        x = self.act2(self.fc2(x))\n",
    "        x = self.fc3(x)\n",
    "        return x"
   ]
  },
  {
   "cell_type": "code",
   "execution_count": 5,
   "metadata": {},
   "outputs": [],
   "source": [
    "def Train_(model):\n",
    "    optimizer = torch.optim.Adam(model.parameters(), lr=1e-4)\n",
    "    for input, label in trainloader:\n",
    "        input, label = input.to(device), label.to(device)\n",
    "        y_hat = model(input.view(-1,784)).to(device)\n",
    "        loss = model.cross_ent(y_hat,label)\n",
    "        optimizer.zero_grad()\n",
    "        loss.backward()\n",
    "        optimizer.step()\n",
    "    return model\n",
    "\n",
    "def find_loss(model,L):\n",
    "    model.eval()\n",
    "    acc = 0\n",
    "    count = 0\n",
    "    count_ = 0\n",
    "    l = 0\n",
    "    for input, label in L:\n",
    "        input, label = input.to(device), label.to(device)\n",
    "        y_hat = model(input.view(-1,784)).to(device)\n",
    "        loss = model.cross_ent(y_hat,label)\n",
    "        l += loss\n",
    "        acc += (torch.argmax(y_hat,dim=1) == label).float().sum()\n",
    "        count += len(label)\n",
    "        count_ += 1\n",
    "    l /= count_\n",
    "    acc /= count\n",
    "    return acc,l"
   ]
  },
  {
   "cell_type": "code",
   "execution_count": 6,
   "metadata": {
    "tags": []
   },
   "outputs": [
    {
     "name": "stdout",
     "output_type": "stream",
     "text": [
      "Run for Model 1...\n"
     ]
    },
    {
     "name": "stderr",
     "output_type": "stream",
     "text": [
      "100%|██████████| 10/10 [02:48<00:00, 16.86s/it]\n"
     ]
    },
    {
     "name": "stdout",
     "output_type": "stream",
     "text": [
      "Run for Model 2...\n"
     ]
    },
    {
     "name": "stderr",
     "output_type": "stream",
     "text": [
      "100%|██████████| 10/10 [02:48<00:00, 16.89s/it]\n"
     ]
    },
    {
     "name": "stdout",
     "output_type": "stream",
     "text": [
      "Run for Model 3...\n"
     ]
    },
    {
     "name": "stderr",
     "output_type": "stream",
     "text": [
      "100%|██████████| 10/10 [02:48<00:00, 16.83s/it]\n"
     ]
    },
    {
     "name": "stdout",
     "output_type": "stream",
     "text": [
      "Run for Model 4...\n"
     ]
    },
    {
     "name": "stderr",
     "output_type": "stream",
     "text": [
      "100%|██████████| 10/10 [02:47<00:00, 16.73s/it]\n"
     ]
    },
    {
     "name": "stdout",
     "output_type": "stream",
     "text": [
      "Run for Model 5...\n"
     ]
    },
    {
     "name": "stderr",
     "output_type": "stream",
     "text": [
      "100%|██████████| 10/10 [02:47<00:00, 16.76s/it]\n"
     ]
    },
    {
     "name": "stdout",
     "output_type": "stream",
     "text": [
      "Run for Model 6...\n"
     ]
    },
    {
     "name": "stderr",
     "output_type": "stream",
     "text": [
      "100%|██████████| 10/10 [02:48<00:00, 16.87s/it]\n"
     ]
    },
    {
     "name": "stdout",
     "output_type": "stream",
     "text": [
      "Run for Model 7...\n"
     ]
    },
    {
     "name": "stderr",
     "output_type": "stream",
     "text": [
      "100%|██████████| 10/10 [02:46<00:00, 16.62s/it]\n"
     ]
    },
    {
     "name": "stdout",
     "output_type": "stream",
     "text": [
      "Run for Model 8...\n"
     ]
    },
    {
     "name": "stderr",
     "output_type": "stream",
     "text": [
      "100%|██████████| 10/10 [02:46<00:00, 16.64s/it]\n"
     ]
    },
    {
     "name": "stdout",
     "output_type": "stream",
     "text": [
      "Run for Model 9...\n"
     ]
    },
    {
     "name": "stderr",
     "output_type": "stream",
     "text": [
      "100%|██████████| 10/10 [02:46<00:00, 16.64s/it]\n"
     ]
    },
    {
     "name": "stdout",
     "output_type": "stream",
     "text": [
      "Run for Model 10...\n"
     ]
    },
    {
     "name": "stderr",
     "output_type": "stream",
     "text": [
      "100%|██████████| 10/10 [02:46<00:00, 16.63s/it]\n"
     ]
    },
    {
     "data": {
      "image/png": "[encoded data removed]",
      "text/plain": [
       "<Figure size 640x480 with 1 Axes>"
      ]
     },
     "metadata": {},
     "output_type": "display_data"
    },
    {
     "data": {
      "image/png": "[encoded data removed]",
      "text/plain": [
       "<Figure size 640x480 with 1 Axes>"
      ]
     },
     "metadata": {},
     "output_type": "display_data"
    }
   ],
   "source": [
    "if __name__=='__main__':\n",
    "    models = {1:m1(), 2:m2(), 3:m3(), 4:m4(), 5:m5(), 6:m6(), 7:m7(), 8:m8(), 9:m9(), 10:m10()}\n",
    "    Epoch = 10\n",
    "    loss_train=[]; loss_test=[]\n",
    "    train_acc=[]; test_acc=[]\n",
    "    n_params=[]\n",
    "    \n",
    "    for i in models:\n",
    "        print(f'Run for Model {i}...')\n",
    "        model = models[i].to(device)\n",
    "        n_params.append(sum(p.numel() for p in model.parameters()))\n",
    "        for ep in tqdm(range(Epoch)):\n",
    "            model = Train_(model)\n",
    "            train_res = find_loss(model,trainloader)\n",
    "            test_res = find_loss(model,testloader)\n",
    "        train_acc.append(train_res[0].cpu().item())\n",
    "        loss_train.append(train_res[1].cpu().item())\n",
    "        test_acc.append(test_res[0].cpu().item())\n",
    "        loss_test.append(test_res[1].cpu().item())\n",
    "\n",
    "    plt.plot(n_params,loss_train,'o',label='Train Loss')\n",
    "    plt.plot(n_params,loss_test,'o',label='Test Loss')\n",
    "    plt.xlabel('Number of Parameters')\n",
    "    plt.ylabel('Loss')\n",
    "    plt.legend()\n",
    "    plt.show()\n",
    "\n",
    "    plt.plot(n_params,train_acc,'o',label='Train Accuracy')\n",
    "    plt.plot(n_params,test_acc,'o',label='Test Accuracy')\n",
    "    plt.xlabel('Number of Parameters')\n",
    "    plt.ylabel('Accuracy')\n",
    "    plt.legend()\n",
    "    plt.show()"
   ]
  }
 ],
 "metadata": {
  "kernelspec": {
   "display_name": "Python 3 (ipykernel)",
   "language": "python",
   "name": "python3"
  },
  "language_info": {
   "codemirror_mode": {
    "name": "ipython",
    "version": 3
   },
   "file_extension": ".py",
   "mimetype": "text/x-python",
   "name": "python",
   "nbconvert_exporter": "python",
   "pygments_lexer": "ipython3",
   "version": "3.9.13"
  }
 },
 "nbformat": 4,
 "nbformat_minor": 4
}
